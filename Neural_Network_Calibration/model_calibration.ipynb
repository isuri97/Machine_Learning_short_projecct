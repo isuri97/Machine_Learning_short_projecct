{
  "nbformat": 4,
  "nbformat_minor": 0,
  "metadata": {
    "colab": {
      "name": "model-calibration.ipynb",
      "provenance": [],
      "collapsed_sections": []
    },
    "kernelspec": {
      "name": "python3",
      "display_name": "Python 3"
    }
  },
  "cells": [
    {
      "cell_type": "code",
      "metadata": {
        "id": "v66D_NaZ9EDA",
        "colab_type": "code",
        "colab": {}
      },
      "source": [
        "import tensorflow as tf\n",
        "import tensorflow_probability as tfp\n",
        "from tensorflow import keras\n",
        "import pandas as pd"
      ],
      "execution_count": 0,
      "outputs": []
    },
    {
      "cell_type": "code",
      "metadata": {
        "id": "Y7M0NDEU9e_i",
        "colab_type": "code",
        "colab": {}
      },
      "source": [
        "df = pd.read_csv(\"iris.csv\")\n",
        "X = df.drop([\"class\"],axis=1)\n",
        "Y = df['class'].map({'Iris-setosa': 0, 'Iris-versicolor': 1, 'Iris-virginica': 2})"
      ],
      "execution_count": 0,
      "outputs": []
    },
    {
      "cell_type": "code",
      "metadata": {
        "id": "Go1M1xOi-BOx",
        "colab_type": "code",
        "colab": {}
      },
      "source": [
        "# Model Architecture\n",
        "input_layer = keras.layers.Input(shape=(4,))\n",
        "dense_1 = keras.layers.Dense(64, activation='relu')(input_layer)\n",
        "logits = keras.layers.Dense(3)(dense_1) # Here 3 represents number of classes\n",
        "model = keras.Model(inputs=input_layer, outputs=logits)"
      ],
      "execution_count": 0,
      "outputs": []
    },
    {
      "cell_type": "code",
      "metadata": {
        "id": "Ul_CUvTL-jIX",
        "colab_type": "code",
        "colab": {}
      },
      "source": [
        "# Compile model\n",
        "custom_loss = keras.losses.CategoricalCrossentropy(from_logits=True)\n",
        "model.compile(optimizer='adam',\n",
        "              loss=custom_loss,\n",
        "              metrics=['accuracy']\n",
        "             )"
      ],
      "execution_count": 0,
      "outputs": []
    },
    {
      "cell_type": "code",
      "metadata": {
        "id": "fMgEF4gl-p04",
        "colab_type": "code",
        "colab": {
          "base_uri": "https://localhost:8080/",
          "height": 1000
        },
        "outputId": "c04ab8a4-50f9-45c1-cf30-1c253f4d6ad5"
      },
      "source": [
        "# Fit model - without label smoothing\n",
        "history = model.fit(X, keras.utils.to_categorical(Y),\n",
        "                    epochs=150,\n",
        "                    batch_size=8)"
      ],
      "execution_count": 5,
      "outputs": [
        {
          "output_type": "stream",
          "text": [
            "Epoch 1/150\n",
            "19/19 [==============================] - 0s 1ms/step - loss: 1.0709 - accuracy: 0.4400\n",
            "Epoch 2/150\n",
            "19/19 [==============================] - 0s 1ms/step - loss: 0.8556 - accuracy: 0.6000\n",
            "Epoch 3/150\n",
            "19/19 [==============================] - 0s 1ms/step - loss: 0.7170 - accuracy: 0.8000\n",
            "Epoch 4/150\n",
            "19/19 [==============================] - 0s 1ms/step - loss: 0.6329 - accuracy: 0.8467\n",
            "Epoch 5/150\n",
            "19/19 [==============================] - 0s 1ms/step - loss: 0.5750 - accuracy: 0.9533\n",
            "Epoch 6/150\n",
            "19/19 [==============================] - 0s 1ms/step - loss: 0.5355 - accuracy: 0.7267\n",
            "Epoch 7/150\n",
            "19/19 [==============================] - 0s 1ms/step - loss: 0.4919 - accuracy: 0.9600\n",
            "Epoch 8/150\n",
            "19/19 [==============================] - 0s 1ms/step - loss: 0.4684 - accuracy: 0.9000\n",
            "Epoch 9/150\n",
            "19/19 [==============================] - 0s 1ms/step - loss: 0.4421 - accuracy: 0.9400\n",
            "Epoch 10/150\n",
            "19/19 [==============================] - 0s 1ms/step - loss: 0.4208 - accuracy: 0.9733\n",
            "Epoch 11/150\n",
            "19/19 [==============================] - 0s 1ms/step - loss: 0.4039 - accuracy: 0.8933\n",
            "Epoch 12/150\n",
            "19/19 [==============================] - 0s 1ms/step - loss: 0.3887 - accuracy: 0.9667\n",
            "Epoch 13/150\n",
            "19/19 [==============================] - 0s 1ms/step - loss: 0.3760 - accuracy: 0.9200\n",
            "Epoch 14/150\n",
            "19/19 [==============================] - 0s 1ms/step - loss: 0.3642 - accuracy: 0.9533\n",
            "Epoch 15/150\n",
            "19/19 [==============================] - 0s 1ms/step - loss: 0.3486 - accuracy: 0.9267\n",
            "Epoch 16/150\n",
            "19/19 [==============================] - 0s 1ms/step - loss: 0.3338 - accuracy: 0.9733\n",
            "Epoch 17/150\n",
            "19/19 [==============================] - 0s 1ms/step - loss: 0.3233 - accuracy: 0.9800\n",
            "Epoch 18/150\n",
            "19/19 [==============================] - 0s 1ms/step - loss: 0.3121 - accuracy: 0.9600\n",
            "Epoch 19/150\n",
            "19/19 [==============================] - 0s 1ms/step - loss: 0.3039 - accuracy: 0.9733\n",
            "Epoch 20/150\n",
            "19/19 [==============================] - 0s 1ms/step - loss: 0.2940 - accuracy: 0.9667\n",
            "Epoch 21/150\n",
            "19/19 [==============================] - 0s 1ms/step - loss: 0.2880 - accuracy: 0.9667\n",
            "Epoch 22/150\n",
            "19/19 [==============================] - 0s 1ms/step - loss: 0.2760 - accuracy: 0.9733\n",
            "Epoch 23/150\n",
            "19/19 [==============================] - 0s 1ms/step - loss: 0.2716 - accuracy: 0.9733\n",
            "Epoch 24/150\n",
            "19/19 [==============================] - 0s 1ms/step - loss: 0.2649 - accuracy: 0.9467\n",
            "Epoch 25/150\n",
            "19/19 [==============================] - 0s 1ms/step - loss: 0.2491 - accuracy: 0.9800\n",
            "Epoch 26/150\n",
            "19/19 [==============================] - 0s 1ms/step - loss: 0.2426 - accuracy: 0.9800\n",
            "Epoch 27/150\n",
            "19/19 [==============================] - 0s 2ms/step - loss: 0.2373 - accuracy: 0.9733\n",
            "Epoch 28/150\n",
            "19/19 [==============================] - 0s 1ms/step - loss: 0.2299 - accuracy: 0.9800\n",
            "Epoch 29/150\n",
            "19/19 [==============================] - 0s 1ms/step - loss: 0.2245 - accuracy: 0.9667\n",
            "Epoch 30/150\n",
            "19/19 [==============================] - 0s 2ms/step - loss: 0.2207 - accuracy: 0.9600\n",
            "Epoch 31/150\n",
            "19/19 [==============================] - 0s 1ms/step - loss: 0.2139 - accuracy: 0.9733\n",
            "Epoch 32/150\n",
            "19/19 [==============================] - 0s 1ms/step - loss: 0.2068 - accuracy: 0.9667\n",
            "Epoch 33/150\n",
            "19/19 [==============================] - 0s 1ms/step - loss: 0.2046 - accuracy: 0.9733\n",
            "Epoch 34/150\n",
            "19/19 [==============================] - 0s 1ms/step - loss: 0.2024 - accuracy: 0.9667\n",
            "Epoch 35/150\n",
            "19/19 [==============================] - 0s 1ms/step - loss: 0.1926 - accuracy: 0.9667\n",
            "Epoch 36/150\n",
            "19/19 [==============================] - 0s 1ms/step - loss: 0.1917 - accuracy: 0.9533\n",
            "Epoch 37/150\n",
            "19/19 [==============================] - 0s 1ms/step - loss: 0.1868 - accuracy: 0.9600\n",
            "Epoch 38/150\n",
            "19/19 [==============================] - 0s 1ms/step - loss: 0.1821 - accuracy: 0.9733\n",
            "Epoch 39/150\n",
            "19/19 [==============================] - 0s 1ms/step - loss: 0.1772 - accuracy: 0.9667\n",
            "Epoch 40/150\n",
            "19/19 [==============================] - 0s 1ms/step - loss: 0.1708 - accuracy: 0.9667\n",
            "Epoch 41/150\n",
            "19/19 [==============================] - 0s 1ms/step - loss: 0.1648 - accuracy: 0.9733\n",
            "Epoch 42/150\n",
            "19/19 [==============================] - 0s 1ms/step - loss: 0.1604 - accuracy: 0.9733\n",
            "Epoch 43/150\n",
            "19/19 [==============================] - 0s 1ms/step - loss: 0.1623 - accuracy: 0.9733\n",
            "Epoch 44/150\n",
            "19/19 [==============================] - 0s 1ms/step - loss: 0.1607 - accuracy: 0.9733\n",
            "Epoch 45/150\n",
            "19/19 [==============================] - 0s 1ms/step - loss: 0.1553 - accuracy: 0.9800\n",
            "Epoch 46/150\n",
            "19/19 [==============================] - 0s 1ms/step - loss: 0.1519 - accuracy: 0.9800\n",
            "Epoch 47/150\n",
            "19/19 [==============================] - 0s 1ms/step - loss: 0.1482 - accuracy: 0.9733\n",
            "Epoch 48/150\n",
            "19/19 [==============================] - 0s 1ms/step - loss: 0.1508 - accuracy: 0.9733\n",
            "Epoch 49/150\n",
            "19/19 [==============================] - 0s 1ms/step - loss: 0.1434 - accuracy: 0.9667\n",
            "Epoch 50/150\n",
            "19/19 [==============================] - 0s 1ms/step - loss: 0.1447 - accuracy: 0.9733\n",
            "Epoch 51/150\n",
            "19/19 [==============================] - 0s 1ms/step - loss: 0.1456 - accuracy: 0.9733\n",
            "Epoch 52/150\n",
            "19/19 [==============================] - 0s 1ms/step - loss: 0.1440 - accuracy: 0.9733\n",
            "Epoch 53/150\n",
            "19/19 [==============================] - 0s 1ms/step - loss: 0.1331 - accuracy: 0.9733\n",
            "Epoch 54/150\n",
            "19/19 [==============================] - 0s 1ms/step - loss: 0.1320 - accuracy: 0.9667\n",
            "Epoch 55/150\n",
            "19/19 [==============================] - 0s 1ms/step - loss: 0.1285 - accuracy: 0.9733\n",
            "Epoch 56/150\n",
            "19/19 [==============================] - 0s 1ms/step - loss: 0.1274 - accuracy: 0.9667\n",
            "Epoch 57/150\n",
            "19/19 [==============================] - 0s 1ms/step - loss: 0.1257 - accuracy: 0.9733\n",
            "Epoch 58/150\n",
            "19/19 [==============================] - 0s 1ms/step - loss: 0.1246 - accuracy: 0.9733\n",
            "Epoch 59/150\n",
            "19/19 [==============================] - 0s 1ms/step - loss: 0.1262 - accuracy: 0.9667\n",
            "Epoch 60/150\n",
            "19/19 [==============================] - 0s 1ms/step - loss: 0.1189 - accuracy: 0.9733\n",
            "Epoch 61/150\n",
            "19/19 [==============================] - 0s 1ms/step - loss: 0.1210 - accuracy: 0.9733\n",
            "Epoch 62/150\n",
            "19/19 [==============================] - 0s 1ms/step - loss: 0.1196 - accuracy: 0.9667\n",
            "Epoch 63/150\n",
            "19/19 [==============================] - 0s 1ms/step - loss: 0.1160 - accuracy: 0.9733\n",
            "Epoch 64/150\n",
            "19/19 [==============================] - 0s 1ms/step - loss: 0.1137 - accuracy: 0.9733\n",
            "Epoch 65/150\n",
            "19/19 [==============================] - 0s 1ms/step - loss: 0.1146 - accuracy: 0.9800\n",
            "Epoch 66/150\n",
            "19/19 [==============================] - 0s 1ms/step - loss: 0.1116 - accuracy: 0.9733\n",
            "Epoch 67/150\n",
            "19/19 [==============================] - 0s 1ms/step - loss: 0.1101 - accuracy: 0.9800\n",
            "Epoch 68/150\n",
            "19/19 [==============================] - 0s 1ms/step - loss: 0.1071 - accuracy: 0.9800\n",
            "Epoch 69/150\n",
            "19/19 [==============================] - 0s 1ms/step - loss: 0.1069 - accuracy: 0.9800\n",
            "Epoch 70/150\n",
            "19/19 [==============================] - 0s 1ms/step - loss: 0.1064 - accuracy: 0.9800\n",
            "Epoch 71/150\n",
            "19/19 [==============================] - 0s 1ms/step - loss: 0.1068 - accuracy: 0.9800\n",
            "Epoch 72/150\n",
            "19/19 [==============================] - 0s 1ms/step - loss: 0.1052 - accuracy: 0.9733\n",
            "Epoch 73/150\n",
            "19/19 [==============================] - 0s 1ms/step - loss: 0.1049 - accuracy: 0.9667\n",
            "Epoch 74/150\n",
            "19/19 [==============================] - 0s 1ms/step - loss: 0.1145 - accuracy: 0.9600\n",
            "Epoch 75/150\n",
            "19/19 [==============================] - 0s 1ms/step - loss: 0.1052 - accuracy: 0.9733\n",
            "Epoch 76/150\n",
            "19/19 [==============================] - 0s 1ms/step - loss: 0.0995 - accuracy: 0.9800\n",
            "Epoch 77/150\n",
            "19/19 [==============================] - 0s 1ms/step - loss: 0.0999 - accuracy: 0.9733\n",
            "Epoch 78/150\n",
            "19/19 [==============================] - 0s 1ms/step - loss: 0.1016 - accuracy: 0.9733\n",
            "Epoch 79/150\n",
            "19/19 [==============================] - 0s 1ms/step - loss: 0.0993 - accuracy: 0.9733\n",
            "Epoch 80/150\n",
            "19/19 [==============================] - 0s 1ms/step - loss: 0.0974 - accuracy: 0.9667\n",
            "Epoch 81/150\n",
            "19/19 [==============================] - 0s 1ms/step - loss: 0.0966 - accuracy: 0.9800\n",
            "Epoch 82/150\n",
            "19/19 [==============================] - 0s 1ms/step - loss: 0.0962 - accuracy: 0.9867\n",
            "Epoch 83/150\n",
            "19/19 [==============================] - 0s 1ms/step - loss: 0.0945 - accuracy: 0.9800\n",
            "Epoch 84/150\n",
            "19/19 [==============================] - 0s 1ms/step - loss: 0.0916 - accuracy: 0.9800\n",
            "Epoch 85/150\n",
            "19/19 [==============================] - 0s 1ms/step - loss: 0.0930 - accuracy: 0.9800\n",
            "Epoch 86/150\n",
            "19/19 [==============================] - 0s 1ms/step - loss: 0.0929 - accuracy: 0.9733\n",
            "Epoch 87/150\n",
            "19/19 [==============================] - 0s 1ms/step - loss: 0.0952 - accuracy: 0.9733\n",
            "Epoch 88/150\n",
            "19/19 [==============================] - 0s 1ms/step - loss: 0.0900 - accuracy: 0.9800\n",
            "Epoch 89/150\n",
            "19/19 [==============================] - 0s 1ms/step - loss: 0.0907 - accuracy: 0.9800\n",
            "Epoch 90/150\n",
            "19/19 [==============================] - 0s 1ms/step - loss: 0.0954 - accuracy: 0.9800\n",
            "Epoch 91/150\n",
            "19/19 [==============================] - 0s 1ms/step - loss: 0.0891 - accuracy: 0.9800\n",
            "Epoch 92/150\n",
            "19/19 [==============================] - 0s 1ms/step - loss: 0.0882 - accuracy: 0.9733\n",
            "Epoch 93/150\n",
            "19/19 [==============================] - 0s 1ms/step - loss: 0.0870 - accuracy: 0.9933\n",
            "Epoch 94/150\n",
            "19/19 [==============================] - 0s 1ms/step - loss: 0.0885 - accuracy: 0.9733\n",
            "Epoch 95/150\n",
            "19/19 [==============================] - 0s 1ms/step - loss: 0.0896 - accuracy: 0.9800\n",
            "Epoch 96/150\n",
            "19/19 [==============================] - 0s 1ms/step - loss: 0.0847 - accuracy: 0.9800\n",
            "Epoch 97/150\n",
            "19/19 [==============================] - 0s 1ms/step - loss: 0.0857 - accuracy: 0.9800\n",
            "Epoch 98/150\n",
            "19/19 [==============================] - 0s 1ms/step - loss: 0.0849 - accuracy: 0.9733\n",
            "Epoch 99/150\n",
            "19/19 [==============================] - 0s 1ms/step - loss: 0.0855 - accuracy: 0.9800\n",
            "Epoch 100/150\n",
            "19/19 [==============================] - 0s 1ms/step - loss: 0.0834 - accuracy: 0.9800\n",
            "Epoch 101/150\n",
            "19/19 [==============================] - 0s 1ms/step - loss: 0.0826 - accuracy: 0.9733\n",
            "Epoch 102/150\n",
            "19/19 [==============================] - 0s 1ms/step - loss: 0.0859 - accuracy: 0.9733\n",
            "Epoch 103/150\n",
            "19/19 [==============================] - 0s 1ms/step - loss: 0.0824 - accuracy: 0.9667\n",
            "Epoch 104/150\n",
            "19/19 [==============================] - 0s 1ms/step - loss: 0.0826 - accuracy: 0.9867\n",
            "Epoch 105/150\n",
            "19/19 [==============================] - 0s 1ms/step - loss: 0.0829 - accuracy: 0.9733\n",
            "Epoch 106/150\n",
            "19/19 [==============================] - 0s 1ms/step - loss: 0.0809 - accuracy: 0.9667\n",
            "Epoch 107/150\n",
            "19/19 [==============================] - 0s 1ms/step - loss: 0.0830 - accuracy: 0.9800\n",
            "Epoch 108/150\n",
            "19/19 [==============================] - 0s 1ms/step - loss: 0.0855 - accuracy: 0.9733\n",
            "Epoch 109/150\n",
            "19/19 [==============================] - 0s 1ms/step - loss: 0.0797 - accuracy: 0.9733\n",
            "Epoch 110/150\n",
            "19/19 [==============================] - 0s 1ms/step - loss: 0.0781 - accuracy: 0.9733\n",
            "Epoch 111/150\n",
            "19/19 [==============================] - 0s 1ms/step - loss: 0.0827 - accuracy: 0.9667\n",
            "Epoch 112/150\n",
            "19/19 [==============================] - 0s 1ms/step - loss: 0.0839 - accuracy: 0.9733\n",
            "Epoch 113/150\n",
            "19/19 [==============================] - 0s 1ms/step - loss: 0.0860 - accuracy: 0.9733\n",
            "Epoch 114/150\n",
            "19/19 [==============================] - 0s 1ms/step - loss: 0.0853 - accuracy: 0.9733\n",
            "Epoch 115/150\n",
            "19/19 [==============================] - 0s 1ms/step - loss: 0.0755 - accuracy: 0.9800\n",
            "Epoch 116/150\n",
            "19/19 [==============================] - 0s 1ms/step - loss: 0.0803 - accuracy: 0.9733\n",
            "Epoch 117/150\n",
            "19/19 [==============================] - 0s 1ms/step - loss: 0.0815 - accuracy: 0.9733\n",
            "Epoch 118/150\n",
            "19/19 [==============================] - 0s 1ms/step - loss: 0.0757 - accuracy: 0.9733\n",
            "Epoch 119/150\n",
            "19/19 [==============================] - 0s 1ms/step - loss: 0.0806 - accuracy: 0.9733\n",
            "Epoch 120/150\n",
            "19/19 [==============================] - 0s 1ms/step - loss: 0.0764 - accuracy: 0.9733\n",
            "Epoch 121/150\n",
            "19/19 [==============================] - 0s 2ms/step - loss: 0.0849 - accuracy: 0.9733\n",
            "Epoch 122/150\n",
            "19/19 [==============================] - 0s 1ms/step - loss: 0.0771 - accuracy: 0.9800\n",
            "Epoch 123/150\n",
            "19/19 [==============================] - 0s 1ms/step - loss: 0.0761 - accuracy: 0.9800\n",
            "Epoch 124/150\n",
            "19/19 [==============================] - 0s 1ms/step - loss: 0.0753 - accuracy: 0.9733\n",
            "Epoch 125/150\n",
            "19/19 [==============================] - 0s 1ms/step - loss: 0.0730 - accuracy: 0.9867\n",
            "Epoch 126/150\n",
            "19/19 [==============================] - 0s 1ms/step - loss: 0.0774 - accuracy: 0.9733\n",
            "Epoch 127/150\n",
            "19/19 [==============================] - 0s 1ms/step - loss: 0.0734 - accuracy: 0.9800\n",
            "Epoch 128/150\n",
            "19/19 [==============================] - 0s 1ms/step - loss: 0.0749 - accuracy: 0.9800\n",
            "Epoch 129/150\n",
            "19/19 [==============================] - 0s 1ms/step - loss: 0.0761 - accuracy: 0.9800\n",
            "Epoch 130/150\n",
            "19/19 [==============================] - 0s 1ms/step - loss: 0.0813 - accuracy: 0.9733\n",
            "Epoch 131/150\n",
            "19/19 [==============================] - 0s 1ms/step - loss: 0.0766 - accuracy: 0.9733\n",
            "Epoch 132/150\n",
            "19/19 [==============================] - 0s 1ms/step - loss: 0.0832 - accuracy: 0.9733\n",
            "Epoch 133/150\n",
            "19/19 [==============================] - 0s 1ms/step - loss: 0.0748 - accuracy: 0.9800\n",
            "Epoch 134/150\n",
            "19/19 [==============================] - 0s 1ms/step - loss: 0.0712 - accuracy: 0.9800\n",
            "Epoch 135/150\n",
            "19/19 [==============================] - 0s 1ms/step - loss: 0.0738 - accuracy: 0.9733\n",
            "Epoch 136/150\n",
            "19/19 [==============================] - 0s 1ms/step - loss: 0.0713 - accuracy: 0.9733\n",
            "Epoch 137/150\n",
            "19/19 [==============================] - 0s 1ms/step - loss: 0.0712 - accuracy: 0.9733\n",
            "Epoch 138/150\n",
            "19/19 [==============================] - 0s 1ms/step - loss: 0.0734 - accuracy: 0.9800\n",
            "Epoch 139/150\n",
            "19/19 [==============================] - 0s 1ms/step - loss: 0.0752 - accuracy: 0.9733\n",
            "Epoch 140/150\n",
            "19/19 [==============================] - 0s 1ms/step - loss: 0.0720 - accuracy: 0.9800\n",
            "Epoch 141/150\n",
            "19/19 [==============================] - 0s 1ms/step - loss: 0.0740 - accuracy: 0.9733\n",
            "Epoch 142/150\n",
            "19/19 [==============================] - 0s 1ms/step - loss: 0.0719 - accuracy: 0.9733\n",
            "Epoch 143/150\n",
            "19/19 [==============================] - 0s 1ms/step - loss: 0.0731 - accuracy: 0.9733\n",
            "Epoch 144/150\n",
            "19/19 [==============================] - 0s 1ms/step - loss: 0.0757 - accuracy: 0.9733\n",
            "Epoch 145/150\n",
            "19/19 [==============================] - 0s 1ms/step - loss: 0.0722 - accuracy: 0.9733\n",
            "Epoch 146/150\n",
            "19/19 [==============================] - 0s 1ms/step - loss: 0.0742 - accuracy: 0.9733\n",
            "Epoch 147/150\n",
            "19/19 [==============================] - 0s 1ms/step - loss: 0.0690 - accuracy: 0.9800\n",
            "Epoch 148/150\n",
            "19/19 [==============================] - 0s 1ms/step - loss: 0.0690 - accuracy: 0.9800\n",
            "Epoch 149/150\n",
            "19/19 [==============================] - 0s 1ms/step - loss: 0.0698 - accuracy: 0.9800\n",
            "Epoch 150/150\n",
            "19/19 [==============================] - 0s 1ms/step - loss: 0.0700 - accuracy: 0.9800\n"
          ],
          "name": "stdout"
        }
      ]
    },
    {
      "cell_type": "code",
      "metadata": {
        "id": "yN1Mo1H3_NJl",
        "colab_type": "code",
        "colab": {}
      },
      "source": [
        "# Logit prediction\n",
        "y_pred = model.predict(X)"
      ],
      "execution_count": 0,
      "outputs": []
    },
    {
      "cell_type": "code",
      "metadata": {
        "id": "Aay5WtjGOaDs",
        "colab_type": "code",
        "colab": {
          "base_uri": "https://localhost:8080/",
          "height": 34
        },
        "outputId": "39cceaf2-f464-4ebd-adb9-ee63445ec5fb"
      },
      "source": [
        "# ECE result before calibration\n",
        "num_bins = 50\n",
        "labels_true = tf.convert_to_tensor(Y, dtype=tf.int32, name='labels_true')\n",
        "logits = tf.convert_to_tensor(y_pred, dtype=tf.float32, name='logits')\n",
        "\n",
        "tfp.stats.expected_calibration_error(num_bins=num_bins, \n",
        "                                     logits=logits, \n",
        "                                     labels_true=labels_true)"
      ],
      "execution_count": 12,
      "outputs": [
        {
          "output_type": "execute_result",
          "data": {
            "text/plain": [
              "<tf.Tensor: shape=(), dtype=float32, numpy=0.05008378>"
            ]
          },
          "metadata": {
            "tags": []
          },
          "execution_count": 12
        }
      ]
    },
    {
      "cell_type": "code",
      "metadata": {
        "id": "0tyCpttF_Sj2",
        "colab_type": "code",
        "colab": {
          "base_uri": "https://localhost:8080/",
          "height": 51
        },
        "outputId": "67bf5d9f-45a4-46b8-ff56-5c25f4f18890"
      },
      "source": [
        "# Temperature Scaling\n",
        "\n",
        "temp = tf.Variable(initial_value=1.0, trainable=True, dtype=tf.float32) \n",
        "\n",
        "def compute_loss():\n",
        "    y_pred_model_w_temp = tf.math.divide(y_pred, temp)\n",
        "    loss = tf.reduce_mean(tf.nn.softmax_cross_entropy_with_logits(\\\n",
        "                                tf.convert_to_tensor(keras.utils.to_categorical(Y)), y_pred_model_w_temp))\n",
        "    return loss\n",
        "\n",
        "optimizer = tf.optimizers.Adam(learning_rate=0.01)\n",
        "\n",
        "print('Temperature Initial value: {}'.format(temp.numpy()))\n",
        "\n",
        "for i in range(300):\n",
        "    opts = optimizer.minimize(compute_loss, var_list=[temp])\n",
        "\n",
        "\n",
        "print('Temperature Final value: {}'.format(temp.numpy()))"
      ],
      "execution_count": 9,
      "outputs": [
        {
          "output_type": "stream",
          "text": [
            "Temperature Initial value: 1.0\n",
            "Temperature Final value: 0.5670669078826904\n"
          ],
          "name": "stdout"
        }
      ]
    },
    {
      "cell_type": "code",
      "metadata": {
        "id": "lUJJOWmQHUvi",
        "colab_type": "code",
        "colab": {
          "base_uri": "https://localhost:8080/",
          "height": 34
        },
        "outputId": "21667e3b-5529-4d97-f226-1ad47f478256"
      },
      "source": [
        "# ECE result after calibration\n",
        "y_pred_model_w_temp = tf.math.divide(y_pred, temp)\n",
        "num_bins = 50\n",
        "labels_true = tf.convert_to_tensor(Y, dtype=tf.int32, name='labels_true')\n",
        "logits = tf.convert_to_tensor(y_pred_model_w_temp, dtype=tf.float32, name='logits')\n",
        "\n",
        "tfp.stats.expected_calibration_error(num_bins=num_bins, \n",
        "                                     logits=logits, \n",
        "                                     labels_true=labels_true)"
      ],
      "execution_count": 11,
      "outputs": [
        {
          "output_type": "execute_result",
          "data": {
            "text/plain": [
              "<tf.Tensor: shape=(), dtype=float32, numpy=0.031124191>"
            ]
          },
          "metadata": {
            "tags": []
          },
          "execution_count": 11
        }
      ]
    },
    {
      "cell_type": "code",
      "metadata": {
        "id": "lt4YIhl4OUoi",
        "colab_type": "code",
        "colab": {}
      },
      "source": [
        ""
      ],
      "execution_count": 0,
      "outputs": []
    }
  ]
}