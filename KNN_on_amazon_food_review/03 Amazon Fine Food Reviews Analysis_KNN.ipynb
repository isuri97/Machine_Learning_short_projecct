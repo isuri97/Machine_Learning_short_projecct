{
 "cells": [
  {
   "cell_type": "markdown",
   "metadata": {},
   "source": [
    "# Amazon Fine Food Reviews Analysis\n",
    "\n",
    "\n",
    "Data Source: https://www.kaggle.com/snap/amazon-fine-food-reviews <br>\n",
    "\n",
    "EDA: https://nycdatascience.com/blog/student-works/amazon-fine-foods-visualization/\n",
    "\n",
    "\n",
    "The Amazon Fine Food Reviews dataset consists of reviews of fine foods from Amazon.<br>\n",
    "\n",
    "Number of reviews: 568,454<br>\n",
    "Number of users: 256,059<br>\n",
    "Number of products: 74,258<br>\n",
    "Timespan: Oct 1999 - Oct 2012<br>\n",
    "Number of Attributes/Columns in data: 10 \n",
    "\n",
    "Attribute Information:\n",
    "\n",
    "1. Id\n",
    "2. ProductId - unique identifier for the product\n",
    "3. UserId - unqiue identifier for the user\n",
    "4. ProfileName\n",
    "5. HelpfulnessNumerator - number of users who found the review helpful\n",
    "6. HelpfulnessDenominator - number of users who indicated whether they found the review helpful or not\n",
    "7. Score - rating between 1 and 5\n",
    "8. Time - timestamp for the review\n",
    "9. Summary - brief summary of the review\n",
    "10. Text - text of the review\n",
    "\n",
    "\n",
    "#### Objective:\n",
    "Given a review, determine whether the review is positive (rating of 4 or 5) or negative (rating of 1 or 2).\n",
    "\n",
    "<br>\n",
    "[Q] How to determine if a review is positive or negative?<br>\n",
    "<br> \n",
    "[Ans] We could use Score/Rating. A rating of 4 or 5 can be cosnidered as a positive review. A rating of 1 or 2 can be considered as negative one. A review of rating 3 is considered nuetral and such reviews are ignored from our analysis. This is an approximate and proxy way of determining the polarity (positivity/negativity) of a review.\n",
    "\n",
    "\n"
   ]
  },
  {
   "cell_type": "markdown",
   "metadata": {},
   "source": [
    "# [1]. Reading Data"
   ]
  },
  {
   "cell_type": "markdown",
   "metadata": {},
   "source": [
    "## [1.1] Loading the data\n",
    "\n",
    "The dataset is available in two forms\n",
    "1. .csv file\n",
    "2. SQLite Database\n",
    "\n",
    "In order to load the data, We have used the SQLITE dataset as it is easier to query the data and visualise the data efficiently.\n",
    "<br> \n",
    "\n",
    "Here as we only want to get the global sentiment of the recommendations (positive or negative), we will purposefully ignore all Scores equal to 3. If the score is above 3, then the recommendation wil be set to \"positive\". Otherwise, it will be set to \"negative\"."
   ]
  },
  {
   "cell_type": "code",
   "execution_count": 88,
   "metadata": {},
   "outputs": [],
   "source": [
    "%matplotlib inline\n",
    "import warnings\n",
    "warnings.filterwarnings(\"ignore\")\n",
    "\n",
    "\n",
    "import sqlite3\n",
    "import pandas as pd\n",
    "import numpy as np\n",
    "import nltk\n",
    "import string\n",
    "import matplotlib.pyplot as plt\n",
    "import seaborn as sns\n",
    "from sklearn.feature_extraction.text import TfidfTransformer\n",
    "from sklearn.feature_extraction.text import TfidfVectorizer\n",
    "\n",
    "from sklearn.feature_extraction.text import CountVectorizer\n",
    "from sklearn.metrics import confusion_matrix\n",
    "from sklearn import metrics\n",
    "from sklearn.metrics import roc_curve, auc\n",
    "from nltk.stem.porter import PorterStemmer\n",
    "from sklearn import decomposition\n",
    "from sklearn.model_selection import StratifiedKFold\n",
    "\n",
    "import re\n",
    "# Tutorial about Python regular expressions: https://pymotw.com/2/re/\n",
    "import string\n",
    "from nltk.corpus import stopwords\n",
    "from nltk.stem import PorterStemmer\n",
    "from nltk.stem.wordnet import WordNetLemmatizer\n",
    "from sklearn.neighbors import KNeighborsClassifier\n",
    "from sklearn.metrics import accuracy_score\n",
    "from sklearn.metrics import confusion_matrix\n",
    "from sklearn.metrics import precision_score\n",
    "from sklearn.metrics import f1_score\n",
    "from sklearn.metrics import recall_score\n",
    "\n",
    "\n",
    "from gensim.models import Word2Vec\n",
    "from gensim.models import KeyedVectors\n",
    "import pickle\n",
    "from scipy import interp\n",
    "\n",
    "from tqdm import tqdm\n",
    "import os\n",
    "import time"
   ]
  },
  {
   "cell_type": "code",
   "execution_count": 89,
   "metadata": {},
   "outputs": [
    {
     "name": "stdout",
     "output_type": "stream",
     "text": [
      "Number of data points in our data (10000, 10)\n"
     ]
    },
    {
     "data": {
      "text/html": [
       "<div>\n",
       "<style scoped>\n",
       "    .dataframe tbody tr th:only-of-type {\n",
       "        vertical-align: middle;\n",
       "    }\n",
       "\n",
       "    .dataframe tbody tr th {\n",
       "        vertical-align: top;\n",
       "    }\n",
       "\n",
       "    .dataframe thead th {\n",
       "        text-align: right;\n",
       "    }\n",
       "</style>\n",
       "<table border=\"1\" class=\"dataframe\">\n",
       "  <thead>\n",
       "    <tr style=\"text-align: right;\">\n",
       "      <th></th>\n",
       "      <th>Id</th>\n",
       "      <th>ProductId</th>\n",
       "      <th>UserId</th>\n",
       "      <th>ProfileName</th>\n",
       "      <th>HelpfulnessNumerator</th>\n",
       "      <th>HelpfulnessDenominator</th>\n",
       "      <th>Score</th>\n",
       "      <th>Time</th>\n",
       "      <th>Summary</th>\n",
       "      <th>Text</th>\n",
       "    </tr>\n",
       "  </thead>\n",
       "  <tbody>\n",
       "    <tr>\n",
       "      <th>0</th>\n",
       "      <td>1</td>\n",
       "      <td>B001E4KFG0</td>\n",
       "      <td>A3SGXH7AUHU8GW</td>\n",
       "      <td>delmartian</td>\n",
       "      <td>1</td>\n",
       "      <td>1</td>\n",
       "      <td>1</td>\n",
       "      <td>1303862400</td>\n",
       "      <td>Good Quality Dog Food</td>\n",
       "      <td>I have bought several of the Vitality canned d...</td>\n",
       "    </tr>\n",
       "    <tr>\n",
       "      <th>1</th>\n",
       "      <td>2</td>\n",
       "      <td>B00813GRG4</td>\n",
       "      <td>A1D87F6ZCVE5NK</td>\n",
       "      <td>dll pa</td>\n",
       "      <td>0</td>\n",
       "      <td>0</td>\n",
       "      <td>0</td>\n",
       "      <td>1346976000</td>\n",
       "      <td>Not as Advertised</td>\n",
       "      <td>Product arrived labeled as Jumbo Salted Peanut...</td>\n",
       "    </tr>\n",
       "    <tr>\n",
       "      <th>2</th>\n",
       "      <td>3</td>\n",
       "      <td>B000LQOCH0</td>\n",
       "      <td>ABXLMWJIXXAIN</td>\n",
       "      <td>Natalia Corres \"Natalia Corres\"</td>\n",
       "      <td>1</td>\n",
       "      <td>1</td>\n",
       "      <td>1</td>\n",
       "      <td>1219017600</td>\n",
       "      <td>\"Delight\" says it all</td>\n",
       "      <td>This is a confection that has been around a fe...</td>\n",
       "    </tr>\n",
       "  </tbody>\n",
       "</table>\n",
       "</div>"
      ],
      "text/plain": [
       "   Id   ProductId          UserId                      ProfileName  \\\n",
       "0   1  B001E4KFG0  A3SGXH7AUHU8GW                       delmartian   \n",
       "1   2  B00813GRG4  A1D87F6ZCVE5NK                           dll pa   \n",
       "2   3  B000LQOCH0   ABXLMWJIXXAIN  Natalia Corres \"Natalia Corres\"   \n",
       "\n",
       "   HelpfulnessNumerator  HelpfulnessDenominator  Score        Time  \\\n",
       "0                     1                       1      1  1303862400   \n",
       "1                     0                       0      0  1346976000   \n",
       "2                     1                       1      1  1219017600   \n",
       "\n",
       "                 Summary                                               Text  \n",
       "0  Good Quality Dog Food  I have bought several of the Vitality canned d...  \n",
       "1      Not as Advertised  Product arrived labeled as Jumbo Salted Peanut...  \n",
       "2  \"Delight\" says it all  This is a confection that has been around a fe...  "
      ]
     },
     "execution_count": 89,
     "metadata": {},
     "output_type": "execute_result"
    }
   ],
   "source": [
    "# using SQLite Table to read data.\n",
    "con = sqlite3.connect('database.sqlite') \n",
    "\n",
    "# filtering only positive and negative reviews i.e. \n",
    "# not taking into consideration those reviews with Score=3\n",
    "# SELECT * FROM Reviews WHERE Score != 3 LIMIT 500000, will give top 500000 data points\n",
    "# you can change the number to any other number based on your computing power\n",
    "\n",
    "# filtered_data = pd.read_sql_query(\"\"\" SELECT * FROM Reviews WHERE Score != 3 LIMIT 500000\"\"\", con) \n",
    "# for tsne assignment you can take 5k data points\n",
    "\n",
    "filtered_data = pd.read_sql_query(\"\"\" SELECT * FROM Reviews WHERE Score != 3 LIMIT 10000\"\"\", con) \n",
    "\n",
    "# Give reviews with Score>3 a positive rating(1), and reviews with a score<3 a negative rating(0).\n",
    "def partition(x):\n",
    "    if x < 3:\n",
    "        return 0\n",
    "    return 1\n",
    "\n",
    "#changing reviews with score less than 3 to be positive and vice-versa\n",
    "actualScore = filtered_data['Score']\n",
    "positiveNegative = actualScore.map(partition) \n",
    "filtered_data['Score'] = positiveNegative\n",
    "print(\"Number of data points in our data\", filtered_data.shape)\n",
    "filtered_data.head(3)"
   ]
  },
  {
   "cell_type": "code",
   "execution_count": 90,
   "metadata": {},
   "outputs": [],
   "source": [
    "display = pd.read_sql_query(\"\"\"\n",
    "SELECT UserId, ProductId, ProfileName, Time, Score, Text, COUNT(*)\n",
    "FROM Reviews\n",
    "GROUP BY UserId\n",
    "HAVING COUNT(*)>1\n",
    "\"\"\", con)"
   ]
  },
  {
   "cell_type": "code",
   "execution_count": 91,
   "metadata": {
    "scrolled": true
   },
   "outputs": [
    {
     "name": "stdout",
     "output_type": "stream",
     "text": [
      "(80668, 7)\n"
     ]
    },
    {
     "data": {
      "text/html": [
       "<div>\n",
       "<style scoped>\n",
       "    .dataframe tbody tr th:only-of-type {\n",
       "        vertical-align: middle;\n",
       "    }\n",
       "\n",
       "    .dataframe tbody tr th {\n",
       "        vertical-align: top;\n",
       "    }\n",
       "\n",
       "    .dataframe thead th {\n",
       "        text-align: right;\n",
       "    }\n",
       "</style>\n",
       "<table border=\"1\" class=\"dataframe\">\n",
       "  <thead>\n",
       "    <tr style=\"text-align: right;\">\n",
       "      <th></th>\n",
       "      <th>UserId</th>\n",
       "      <th>ProductId</th>\n",
       "      <th>ProfileName</th>\n",
       "      <th>Time</th>\n",
       "      <th>Score</th>\n",
       "      <th>Text</th>\n",
       "      <th>COUNT(*)</th>\n",
       "    </tr>\n",
       "  </thead>\n",
       "  <tbody>\n",
       "    <tr>\n",
       "      <th>0</th>\n",
       "      <td>#oc-R115TNMSPFT9I7</td>\n",
       "      <td>B007Y59HVM</td>\n",
       "      <td>Breyton</td>\n",
       "      <td>1331510400</td>\n",
       "      <td>2</td>\n",
       "      <td>Overall its just OK when considering the price...</td>\n",
       "      <td>2</td>\n",
       "    </tr>\n",
       "    <tr>\n",
       "      <th>1</th>\n",
       "      <td>#oc-R11D9D7SHXIJB9</td>\n",
       "      <td>B005HG9ET0</td>\n",
       "      <td>Louis E. Emory \"hoppy\"</td>\n",
       "      <td>1342396800</td>\n",
       "      <td>5</td>\n",
       "      <td>My wife has recurring extreme muscle spasms, u...</td>\n",
       "      <td>3</td>\n",
       "    </tr>\n",
       "    <tr>\n",
       "      <th>2</th>\n",
       "      <td>#oc-R11DNU2NBKQ23Z</td>\n",
       "      <td>B007Y59HVM</td>\n",
       "      <td>Kim Cieszykowski</td>\n",
       "      <td>1348531200</td>\n",
       "      <td>1</td>\n",
       "      <td>This coffee is horrible and unfortunately not ...</td>\n",
       "      <td>2</td>\n",
       "    </tr>\n",
       "    <tr>\n",
       "      <th>3</th>\n",
       "      <td>#oc-R11O5J5ZVQE25C</td>\n",
       "      <td>B005HG9ET0</td>\n",
       "      <td>Penguin Chick</td>\n",
       "      <td>1346889600</td>\n",
       "      <td>5</td>\n",
       "      <td>This will be the bottle that you grab from the...</td>\n",
       "      <td>3</td>\n",
       "    </tr>\n",
       "    <tr>\n",
       "      <th>4</th>\n",
       "      <td>#oc-R12KPBODL2B5ZD</td>\n",
       "      <td>B007OSBE1U</td>\n",
       "      <td>Christopher P. Presta</td>\n",
       "      <td>1348617600</td>\n",
       "      <td>1</td>\n",
       "      <td>I didnt like this coffee. Instead of telling y...</td>\n",
       "      <td>2</td>\n",
       "    </tr>\n",
       "  </tbody>\n",
       "</table>\n",
       "</div>"
      ],
      "text/plain": [
       "               UserId   ProductId             ProfileName        Time  Score  \\\n",
       "0  #oc-R115TNMSPFT9I7  B007Y59HVM                 Breyton  1331510400      2   \n",
       "1  #oc-R11D9D7SHXIJB9  B005HG9ET0  Louis E. Emory \"hoppy\"  1342396800      5   \n",
       "2  #oc-R11DNU2NBKQ23Z  B007Y59HVM        Kim Cieszykowski  1348531200      1   \n",
       "3  #oc-R11O5J5ZVQE25C  B005HG9ET0           Penguin Chick  1346889600      5   \n",
       "4  #oc-R12KPBODL2B5ZD  B007OSBE1U   Christopher P. Presta  1348617600      1   \n",
       "\n",
       "                                                Text  COUNT(*)  \n",
       "0  Overall its just OK when considering the price...         2  \n",
       "1  My wife has recurring extreme muscle spasms, u...         3  \n",
       "2  This coffee is horrible and unfortunately not ...         2  \n",
       "3  This will be the bottle that you grab from the...         3  \n",
       "4  I didnt like this coffee. Instead of telling y...         2  "
      ]
     },
     "execution_count": 91,
     "metadata": {},
     "output_type": "execute_result"
    }
   ],
   "source": [
    "print(display.shape)\n",
    "display.head()"
   ]
  },
  {
   "cell_type": "code",
   "execution_count": 92,
   "metadata": {},
   "outputs": [
    {
     "data": {
      "text/html": [
       "<div>\n",
       "<style scoped>\n",
       "    .dataframe tbody tr th:only-of-type {\n",
       "        vertical-align: middle;\n",
       "    }\n",
       "\n",
       "    .dataframe tbody tr th {\n",
       "        vertical-align: top;\n",
       "    }\n",
       "\n",
       "    .dataframe thead th {\n",
       "        text-align: right;\n",
       "    }\n",
       "</style>\n",
       "<table border=\"1\" class=\"dataframe\">\n",
       "  <thead>\n",
       "    <tr style=\"text-align: right;\">\n",
       "      <th></th>\n",
       "      <th>UserId</th>\n",
       "      <th>ProductId</th>\n",
       "      <th>ProfileName</th>\n",
       "      <th>Time</th>\n",
       "      <th>Score</th>\n",
       "      <th>Text</th>\n",
       "      <th>COUNT(*)</th>\n",
       "    </tr>\n",
       "  </thead>\n",
       "  <tbody>\n",
       "    <tr>\n",
       "      <th>80638</th>\n",
       "      <td>AZY10LLTJ71NX</td>\n",
       "      <td>B006P7E5ZI</td>\n",
       "      <td>undertheshrine \"undertheshrine\"</td>\n",
       "      <td>1334707200</td>\n",
       "      <td>5</td>\n",
       "      <td>I was recommended to try green tea extract to ...</td>\n",
       "      <td>5</td>\n",
       "    </tr>\n",
       "  </tbody>\n",
       "</table>\n",
       "</div>"
      ],
      "text/plain": [
       "              UserId   ProductId                      ProfileName        Time  \\\n",
       "80638  AZY10LLTJ71NX  B006P7E5ZI  undertheshrine \"undertheshrine\"  1334707200   \n",
       "\n",
       "       Score                                               Text  COUNT(*)  \n",
       "80638      5  I was recommended to try green tea extract to ...         5  "
      ]
     },
     "execution_count": 92,
     "metadata": {},
     "output_type": "execute_result"
    }
   ],
   "source": [
    "display[display['UserId']=='AZY10LLTJ71NX']"
   ]
  },
  {
   "cell_type": "code",
   "execution_count": 93,
   "metadata": {},
   "outputs": [
    {
     "data": {
      "text/plain": [
       "393063"
      ]
     },
     "execution_count": 93,
     "metadata": {},
     "output_type": "execute_result"
    }
   ],
   "source": [
    "display['COUNT(*)'].sum()"
   ]
  },
  {
   "cell_type": "markdown",
   "metadata": {},
   "source": [
    "#  [2] Exploratory Data Analysis"
   ]
  },
  {
   "cell_type": "markdown",
   "metadata": {},
   "source": [
    "## [2.1] Data Cleaning: Deduplication\n",
    "\n",
    "It is observed (as shown in the table below) that the reviews data had many duplicate entries. Hence it was necessary to remove duplicates in order to get unbiased results for the analysis of the data.  Following is an example:"
   ]
  },
  {
   "cell_type": "code",
   "execution_count": 94,
   "metadata": {
    "scrolled": false
   },
   "outputs": [
    {
     "data": {
      "text/html": [
       "<div>\n",
       "<style scoped>\n",
       "    .dataframe tbody tr th:only-of-type {\n",
       "        vertical-align: middle;\n",
       "    }\n",
       "\n",
       "    .dataframe tbody tr th {\n",
       "        vertical-align: top;\n",
       "    }\n",
       "\n",
       "    .dataframe thead th {\n",
       "        text-align: right;\n",
       "    }\n",
       "</style>\n",
       "<table border=\"1\" class=\"dataframe\">\n",
       "  <thead>\n",
       "    <tr style=\"text-align: right;\">\n",
       "      <th></th>\n",
       "      <th>Id</th>\n",
       "      <th>ProductId</th>\n",
       "      <th>UserId</th>\n",
       "      <th>ProfileName</th>\n",
       "      <th>HelpfulnessNumerator</th>\n",
       "      <th>HelpfulnessDenominator</th>\n",
       "      <th>Score</th>\n",
       "      <th>Time</th>\n",
       "      <th>Summary</th>\n",
       "      <th>Text</th>\n",
       "    </tr>\n",
       "  </thead>\n",
       "  <tbody>\n",
       "    <tr>\n",
       "      <th>0</th>\n",
       "      <td>78445</td>\n",
       "      <td>B000HDL1RQ</td>\n",
       "      <td>AR5J8UI46CURR</td>\n",
       "      <td>Geetha Krishnan</td>\n",
       "      <td>2</td>\n",
       "      <td>2</td>\n",
       "      <td>5</td>\n",
       "      <td>1199577600</td>\n",
       "      <td>LOACKER QUADRATINI VANILLA WAFERS</td>\n",
       "      <td>DELICIOUS WAFERS. I FIND THAT EUROPEAN WAFERS ...</td>\n",
       "    </tr>\n",
       "    <tr>\n",
       "      <th>1</th>\n",
       "      <td>138317</td>\n",
       "      <td>B000HDOPYC</td>\n",
       "      <td>AR5J8UI46CURR</td>\n",
       "      <td>Geetha Krishnan</td>\n",
       "      <td>2</td>\n",
       "      <td>2</td>\n",
       "      <td>5</td>\n",
       "      <td>1199577600</td>\n",
       "      <td>LOACKER QUADRATINI VANILLA WAFERS</td>\n",
       "      <td>DELICIOUS WAFERS. I FIND THAT EUROPEAN WAFERS ...</td>\n",
       "    </tr>\n",
       "    <tr>\n",
       "      <th>2</th>\n",
       "      <td>138277</td>\n",
       "      <td>B000HDOPYM</td>\n",
       "      <td>AR5J8UI46CURR</td>\n",
       "      <td>Geetha Krishnan</td>\n",
       "      <td>2</td>\n",
       "      <td>2</td>\n",
       "      <td>5</td>\n",
       "      <td>1199577600</td>\n",
       "      <td>LOACKER QUADRATINI VANILLA WAFERS</td>\n",
       "      <td>DELICIOUS WAFERS. I FIND THAT EUROPEAN WAFERS ...</td>\n",
       "    </tr>\n",
       "    <tr>\n",
       "      <th>3</th>\n",
       "      <td>73791</td>\n",
       "      <td>B000HDOPZG</td>\n",
       "      <td>AR5J8UI46CURR</td>\n",
       "      <td>Geetha Krishnan</td>\n",
       "      <td>2</td>\n",
       "      <td>2</td>\n",
       "      <td>5</td>\n",
       "      <td>1199577600</td>\n",
       "      <td>LOACKER QUADRATINI VANILLA WAFERS</td>\n",
       "      <td>DELICIOUS WAFERS. I FIND THAT EUROPEAN WAFERS ...</td>\n",
       "    </tr>\n",
       "    <tr>\n",
       "      <th>4</th>\n",
       "      <td>155049</td>\n",
       "      <td>B000PAQ75C</td>\n",
       "      <td>AR5J8UI46CURR</td>\n",
       "      <td>Geetha Krishnan</td>\n",
       "      <td>2</td>\n",
       "      <td>2</td>\n",
       "      <td>5</td>\n",
       "      <td>1199577600</td>\n",
       "      <td>LOACKER QUADRATINI VANILLA WAFERS</td>\n",
       "      <td>DELICIOUS WAFERS. I FIND THAT EUROPEAN WAFERS ...</td>\n",
       "    </tr>\n",
       "  </tbody>\n",
       "</table>\n",
       "</div>"
      ],
      "text/plain": [
       "       Id   ProductId         UserId      ProfileName  HelpfulnessNumerator  \\\n",
       "0   78445  B000HDL1RQ  AR5J8UI46CURR  Geetha Krishnan                     2   \n",
       "1  138317  B000HDOPYC  AR5J8UI46CURR  Geetha Krishnan                     2   \n",
       "2  138277  B000HDOPYM  AR5J8UI46CURR  Geetha Krishnan                     2   \n",
       "3   73791  B000HDOPZG  AR5J8UI46CURR  Geetha Krishnan                     2   \n",
       "4  155049  B000PAQ75C  AR5J8UI46CURR  Geetha Krishnan                     2   \n",
       "\n",
       "   HelpfulnessDenominator  Score        Time  \\\n",
       "0                       2      5  1199577600   \n",
       "1                       2      5  1199577600   \n",
       "2                       2      5  1199577600   \n",
       "3                       2      5  1199577600   \n",
       "4                       2      5  1199577600   \n",
       "\n",
       "                             Summary  \\\n",
       "0  LOACKER QUADRATINI VANILLA WAFERS   \n",
       "1  LOACKER QUADRATINI VANILLA WAFERS   \n",
       "2  LOACKER QUADRATINI VANILLA WAFERS   \n",
       "3  LOACKER QUADRATINI VANILLA WAFERS   \n",
       "4  LOACKER QUADRATINI VANILLA WAFERS   \n",
       "\n",
       "                                                Text  \n",
       "0  DELICIOUS WAFERS. I FIND THAT EUROPEAN WAFERS ...  \n",
       "1  DELICIOUS WAFERS. I FIND THAT EUROPEAN WAFERS ...  \n",
       "2  DELICIOUS WAFERS. I FIND THAT EUROPEAN WAFERS ...  \n",
       "3  DELICIOUS WAFERS. I FIND THAT EUROPEAN WAFERS ...  \n",
       "4  DELICIOUS WAFERS. I FIND THAT EUROPEAN WAFERS ...  "
      ]
     },
     "execution_count": 94,
     "metadata": {},
     "output_type": "execute_result"
    }
   ],
   "source": [
    "display= pd.read_sql_query(\"\"\"\n",
    "SELECT *\n",
    "FROM Reviews\n",
    "WHERE Score != 3 AND UserId=\"AR5J8UI46CURR\"\n",
    "ORDER BY ProductID\n",
    "\"\"\", con)\n",
    "display.head()"
   ]
  },
  {
   "cell_type": "markdown",
   "metadata": {},
   "source": [
    "As it can be seen above that same user has multiple reviews with same values for HelpfulnessNumerator, HelpfulnessDenominator, Score, Time, Summary and Text and on doing analysis it was found that <br>\n",
    "<br> \n",
    "ProductId=B000HDOPZG was Loacker Quadratini Vanilla Wafer Cookies, 8.82-Ounce Packages (Pack of 8)<br>\n",
    "<br> \n",
    "ProductId=B000HDL1RQ was Loacker Quadratini Lemon Wafer Cookies, 8.82-Ounce Packages (Pack of 8) and so on<br>\n",
    "\n",
    "It was inferred after analysis that reviews with same parameters other than ProductId belonged to the same product just having different flavour or quantity. Hence in order to reduce redundancy it was decided to eliminate the rows having same parameters.<br>\n",
    "\n",
    "The method used for the same was that we first sort the data according to ProductId and then just keep the first similar product review and delelte the others. for eg. in the above just the review for ProductId=B000HDL1RQ remains. This method ensures that there is only one representative for each product and deduplication without sorting would lead to possibility of different representatives still existing for the same product."
   ]
  },
  {
   "cell_type": "code",
   "execution_count": 95,
   "metadata": {},
   "outputs": [],
   "source": [
    "#Sorting data according to ProductId in ascending order\n",
    "sorted_data=filtered_data.sort_values('ProductId', axis=0, ascending=True, inplace=False, kind='quicksort', na_position='last')"
   ]
  },
  {
   "cell_type": "code",
   "execution_count": 96,
   "metadata": {},
   "outputs": [
    {
     "data": {
      "text/plain": [
       "(9564, 10)"
      ]
     },
     "execution_count": 96,
     "metadata": {},
     "output_type": "execute_result"
    }
   ],
   "source": [
    "#Deduplication of entries\n",
    "final=sorted_data.drop_duplicates(subset={\"UserId\",\"ProfileName\",\"Time\",\"Text\"}, keep='first', inplace=False)\n",
    "final.shape"
   ]
  },
  {
   "cell_type": "code",
   "execution_count": 97,
   "metadata": {},
   "outputs": [
    {
     "data": {
      "text/plain": [
       "95.64"
      ]
     },
     "execution_count": 97,
     "metadata": {},
     "output_type": "execute_result"
    }
   ],
   "source": [
    "#Checking to see how much % of data still remains\n",
    "(final['Id'].size*1.0)/(filtered_data['Id'].size*1.0)*100"
   ]
  },
  {
   "cell_type": "markdown",
   "metadata": {},
   "source": [
    "<b>Observation:-</b> It was also seen that in two rows given below the value of HelpfulnessNumerator is greater than HelpfulnessDenominator which is not practically possible hence these two rows too are removed from calcualtions"
   ]
  },
  {
   "cell_type": "code",
   "execution_count": 98,
   "metadata": {},
   "outputs": [
    {
     "data": {
      "text/html": [
       "<div>\n",
       "<style scoped>\n",
       "    .dataframe tbody tr th:only-of-type {\n",
       "        vertical-align: middle;\n",
       "    }\n",
       "\n",
       "    .dataframe tbody tr th {\n",
       "        vertical-align: top;\n",
       "    }\n",
       "\n",
       "    .dataframe thead th {\n",
       "        text-align: right;\n",
       "    }\n",
       "</style>\n",
       "<table border=\"1\" class=\"dataframe\">\n",
       "  <thead>\n",
       "    <tr style=\"text-align: right;\">\n",
       "      <th></th>\n",
       "      <th>Id</th>\n",
       "      <th>ProductId</th>\n",
       "      <th>UserId</th>\n",
       "      <th>ProfileName</th>\n",
       "      <th>HelpfulnessNumerator</th>\n",
       "      <th>HelpfulnessDenominator</th>\n",
       "      <th>Score</th>\n",
       "      <th>Time</th>\n",
       "      <th>Summary</th>\n",
       "      <th>Text</th>\n",
       "    </tr>\n",
       "  </thead>\n",
       "  <tbody>\n",
       "    <tr>\n",
       "      <th>0</th>\n",
       "      <td>64422</td>\n",
       "      <td>B000MIDROQ</td>\n",
       "      <td>A161DK06JJMCYF</td>\n",
       "      <td>J. E. Stephens \"Jeanne\"</td>\n",
       "      <td>3</td>\n",
       "      <td>1</td>\n",
       "      <td>5</td>\n",
       "      <td>1224892800</td>\n",
       "      <td>Bought This for My Son at College</td>\n",
       "      <td>My son loves spaghetti so I didn't hesitate or...</td>\n",
       "    </tr>\n",
       "    <tr>\n",
       "      <th>1</th>\n",
       "      <td>44737</td>\n",
       "      <td>B001EQ55RW</td>\n",
       "      <td>A2V0I904FH7ABY</td>\n",
       "      <td>Ram</td>\n",
       "      <td>3</td>\n",
       "      <td>2</td>\n",
       "      <td>4</td>\n",
       "      <td>1212883200</td>\n",
       "      <td>Pure cocoa taste with crunchy almonds inside</td>\n",
       "      <td>It was almost a 'love at first bite' - the per...</td>\n",
       "    </tr>\n",
       "  </tbody>\n",
       "</table>\n",
       "</div>"
      ],
      "text/plain": [
       "      Id   ProductId          UserId              ProfileName  \\\n",
       "0  64422  B000MIDROQ  A161DK06JJMCYF  J. E. Stephens \"Jeanne\"   \n",
       "1  44737  B001EQ55RW  A2V0I904FH7ABY                      Ram   \n",
       "\n",
       "   HelpfulnessNumerator  HelpfulnessDenominator  Score        Time  \\\n",
       "0                     3                       1      5  1224892800   \n",
       "1                     3                       2      4  1212883200   \n",
       "\n",
       "                                        Summary  \\\n",
       "0             Bought This for My Son at College   \n",
       "1  Pure cocoa taste with crunchy almonds inside   \n",
       "\n",
       "                                                Text  \n",
       "0  My son loves spaghetti so I didn't hesitate or...  \n",
       "1  It was almost a 'love at first bite' - the per...  "
      ]
     },
     "execution_count": 98,
     "metadata": {},
     "output_type": "execute_result"
    }
   ],
   "source": [
    "display= pd.read_sql_query(\"\"\"\n",
    "SELECT *\n",
    "FROM Reviews\n",
    "WHERE Score != 3 AND Id=44737 OR Id=64422\n",
    "ORDER BY ProductID\n",
    "\"\"\", con)\n",
    "\n",
    "display.head()"
   ]
  },
  {
   "cell_type": "code",
   "execution_count": 99,
   "metadata": {},
   "outputs": [],
   "source": [
    "final=final[final.HelpfulnessNumerator<=final.HelpfulnessDenominator]"
   ]
  },
  {
   "cell_type": "code",
   "execution_count": 100,
   "metadata": {},
   "outputs": [
    {
     "name": "stdout",
     "output_type": "stream",
     "text": [
      "(9564, 10)\n"
     ]
    },
    {
     "data": {
      "text/plain": [
       "1    7976\n",
       "0    1588\n",
       "Name: Score, dtype: int64"
      ]
     },
     "execution_count": 100,
     "metadata": {},
     "output_type": "execute_result"
    }
   ],
   "source": [
    "#Before starting the next phase of preprocessing lets see the number of entries left\n",
    "print(final.shape)\n",
    "\n",
    "#How many positive and negative reviews are present in our dataset?\n",
    "final['Score'].value_counts()"
   ]
  },
  {
   "cell_type": "markdown",
   "metadata": {},
   "source": [
    "#  [3] Preprocessing"
   ]
  },
  {
   "cell_type": "markdown",
   "metadata": {},
   "source": [
    "## [3.1].  Preprocessing Review Text\n",
    "\n",
    "Now that we have finished deduplication our data requires some preprocessing before we go on further with analysis and making the prediction model.\n",
    "\n",
    "Hence in the Preprocessing phase we do the following in the order below:-\n",
    "\n",
    "1. Begin by removing the html tags\n",
    "2. Remove any punctuations or limited set of special characters like , or . or # etc.\n",
    "3. Check if the word is made up of english letters and is not alpha-numeric\n",
    "4. Check to see if the length of the word is greater than 2 (as it was researched that there is no adjective in 2-letters)\n",
    "5. Convert the word to lowercase\n",
    "6. Remove Stopwords\n",
    "7. Finally Snowball Stemming the word (it was obsereved to be better than Porter Stemming)<br>\n",
    "\n",
    "After which we collect the words used to describe positive and negative reviews"
   ]
  },
  {
   "cell_type": "code",
   "execution_count": 101,
   "metadata": {},
   "outputs": [
    {
     "name": "stdout",
     "output_type": "stream",
     "text": [
      "We have used the Victor fly bait for 3 seasons.  Can't beat it.  Great product!\n",
      "==================================================\n",
      "15 month old loves to eat them on the go! They seem great for a healthy, quick, and easy snack!\n",
      "==================================================\n",
      "These chips are truly amazing. They have it all. They're light, crisp, great tasting, nice texture, AND they're all natural... AND low in fat and sodium! Need I say more? I recently bought a bag of them at a regular grocery store, and couldn't belive my taste buds. That's why I excited why I saw them here on Amazon, and decided to buy a case!\n",
      "==================================================\n",
      "These tablets definitely made things sweeter -- like lemons, limes, and grapefruit.  But it wasn't to the point of sheer amazement.  They also had an interesting effect on cheeses and vinegar, but still did virtually nothing for beer and wine. The tablets are a bit pricey but they do work.  If you've got extra money, sure, give them a try, but if you're looking for some amazing way to get your kids to eat broccoli or something along those lines then this is not the answer. Fun experiment, but not life-changing. :)\n",
      "==================================================\n"
     ]
    }
   ],
   "source": [
    "# printing some random reviews\n",
    "sent_0 = final['Text'].values[0]\n",
    "print(sent_0)\n",
    "print(\"=\"*50)\n",
    "\n",
    "sent_1000 = final['Text'].values[1000]\n",
    "print(sent_1000)\n",
    "print(\"=\"*50)\n",
    "\n",
    "sent_1500 = final['Text'].values[1500]\n",
    "print(sent_1500)\n",
    "print(\"=\"*50)\n",
    "\n",
    "sent_4900 = final['Text'].values[4900]\n",
    "print(sent_4900)\n",
    "print(\"=\"*50)"
   ]
  },
  {
   "cell_type": "code",
   "execution_count": 102,
   "metadata": {},
   "outputs": [
    {
     "name": "stdout",
     "output_type": "stream",
     "text": [
      "We have used the Victor fly bait for 3 seasons.  Can't beat it.  Great product!\n"
     ]
    }
   ],
   "source": [
    "# remove urls from text python: https://stackoverflow.com/a/40823105/4084039\n",
    "sent_0 = re.sub(r\"http\\S+\", \"\", sent_0)\n",
    "sent_1000 = re.sub(r\"http\\S+\", \"\", sent_1000)\n",
    "sent_150 = re.sub(r\"http\\S+\", \"\", sent_1500)\n",
    "sent_4900 = re.sub(r\"http\\S+\", \"\", sent_4900)\n",
    "\n",
    "print(sent_0)"
   ]
  },
  {
   "cell_type": "code",
   "execution_count": 103,
   "metadata": {},
   "outputs": [
    {
     "name": "stdout",
     "output_type": "stream",
     "text": [
      "We have used the Victor fly bait for 3 seasons.  Can't beat it.  Great product!\n",
      "==================================================\n",
      "15 month old loves to eat them on the go! They seem great for a healthy, quick, and easy snack!\n",
      "==================================================\n",
      "These chips are truly amazing. They have it all. They're light, crisp, great tasting, nice texture, AND they're all natural... AND low in fat and sodium! Need I say more? I recently bought a bag of them at a regular grocery store, and couldn't belive my taste buds. That's why I excited why I saw them here on Amazon, and decided to buy a case!\n",
      "==================================================\n",
      "These tablets definitely made things sweeter -- like lemons, limes, and grapefruit.  But it wasn't to the point of sheer amazement.  They also had an interesting effect on cheeses and vinegar, but still did virtually nothing for beer and wine. The tablets are a bit pricey but they do work.  If you've got extra money, sure, give them a try, but if you're looking for some amazing way to get your kids to eat broccoli or something along those lines then this is not the answer. Fun experiment, but not life-changing. :)\n"
     ]
    }
   ],
   "source": [
    "# https://stackoverflow.com/questions/16206380/python-beautifulsoup-how-to-remove-all-tags-from-an-element\n",
    "from bs4 import BeautifulSoup\n",
    "\n",
    "soup = BeautifulSoup(sent_0, 'lxml')\n",
    "text = soup.get_text()\n",
    "print(text)\n",
    "print(\"=\"*50)\n",
    "\n",
    "soup = BeautifulSoup(sent_1000, 'lxml')\n",
    "text = soup.get_text()\n",
    "print(text)\n",
    "print(\"=\"*50)\n",
    "\n",
    "soup = BeautifulSoup(sent_1500, 'lxml')\n",
    "text = soup.get_text()\n",
    "print(text)\n",
    "print(\"=\"*50)\n",
    "\n",
    "soup = BeautifulSoup(sent_4900, 'lxml')\n",
    "text = soup.get_text()\n",
    "print(text)"
   ]
  },
  {
   "cell_type": "code",
   "execution_count": 104,
   "metadata": {},
   "outputs": [],
   "source": [
    "# https://stackoverflow.com/a/47091490/4084039\n",
    "import re\n",
    "\n",
    "def decontracted(phrase):\n",
    "    # specific\n",
    "    phrase = re.sub(r\"won't\", \"will not\", phrase)\n",
    "    phrase = re.sub(r\"can\\'t\", \"can not\", phrase)\n",
    "\n",
    "    # general\n",
    "    phrase = re.sub(r\"n\\'t\", \" not\", phrase)\n",
    "    phrase = re.sub(r\"\\'re\", \" are\", phrase)\n",
    "    phrase = re.sub(r\"\\'s\", \" is\", phrase)\n",
    "    phrase = re.sub(r\"\\'d\", \" would\", phrase)\n",
    "    phrase = re.sub(r\"\\'ll\", \" will\", phrase)\n",
    "    phrase = re.sub(r\"\\'t\", \" not\", phrase)\n",
    "    phrase = re.sub(r\"\\'ve\", \" have\", phrase)\n",
    "    phrase = re.sub(r\"\\'m\", \" am\", phrase)\n",
    "    return phrase"
   ]
  },
  {
   "cell_type": "code",
   "execution_count": 105,
   "metadata": {},
   "outputs": [
    {
     "name": "stdout",
     "output_type": "stream",
     "text": [
      "These chips are truly amazing. They have it all. They are light, crisp, great tasting, nice texture, AND they are all natural... AND low in fat and sodium! Need I say more? I recently bought a bag of them at a regular grocery store, and could not belive my taste buds. That is why I excited why I saw them here on Amazon, and decided to buy a case!\n",
      "==================================================\n"
     ]
    }
   ],
   "source": [
    "sent_1500 = decontracted(sent_1500)\n",
    "print(sent_1500)\n",
    "print(\"=\"*50)"
   ]
  },
  {
   "cell_type": "code",
   "execution_count": 106,
   "metadata": {},
   "outputs": [
    {
     "name": "stdout",
     "output_type": "stream",
     "text": [
      "We have used the Victor fly bait for  seasons.  Can't beat it.  Great product!\n"
     ]
    }
   ],
   "source": [
    "#remove words with numbers python: https://stackoverflow.com/a/18082370/4084039\n",
    "sent_0 = re.sub(\"\\S*\\d\\S*\", \"\", sent_0).strip()\n",
    "print(sent_0)"
   ]
  },
  {
   "cell_type": "code",
   "execution_count": 107,
   "metadata": {},
   "outputs": [
    {
     "name": "stdout",
     "output_type": "stream",
     "text": [
      "These chips are truly amazing They have it all They are light crisp great tasting nice texture AND they are all natural AND low in fat and sodium Need I say more I recently bought a bag of them at a regular grocery store and could not belive my taste buds That is why I excited why I saw them here on Amazon and decided to buy a case \n"
     ]
    }
   ],
   "source": [
    "#remove spacial character: https://stackoverflow.com/a/5843547/4084039\n",
    "sent_1500 = re.sub('[^A-Za-z0-9]+', ' ', sent_1500)\n",
    "print(sent_1500)"
   ]
  },
  {
   "cell_type": "code",
   "execution_count": 108,
   "metadata": {},
   "outputs": [],
   "source": [
    "# https://gist.github.com/sebleier/554280\n",
    "# we are removing the words from the stop words list: 'no', 'nor', 'not'\n",
    "# <br /><br /> ==> after the above steps, we are getting \"br br\"\n",
    "# we are including them into stop words list\n",
    "# instead of <br /> if we have <br/> these tags would have revmoved in the 1st step\n",
    "\n",
    "stopwords= set(['br', 'the', 'i', 'me', 'my', 'myself', 'we', 'our', 'ours', 'ourselves', 'you', \"you're\", \"you've\",\\\n",
    "            \"you'll\", \"you'd\", 'your', 'yours', 'yourself', 'yourselves', 'he', 'him', 'his', 'himself', \\\n",
    "            'she', \"she's\", 'her', 'hers', 'herself', 'it', \"it's\", 'its', 'itself', 'they', 'them', 'their',\\\n",
    "            'theirs', 'themselves', 'what', 'which', 'who', 'whom', 'this', 'that', \"that'll\", 'these', 'those', \\\n",
    "            'am', 'is', 'are', 'was', 'were', 'be', 'been', 'being', 'have', 'has', 'had', 'having', 'do', 'does', \\\n",
    "            'did', 'doing', 'a', 'an', 'the', 'and', 'but', 'if', 'or', 'because', 'as', 'until', 'while', 'of', \\\n",
    "            'at', 'by', 'for', 'with', 'about', 'against', 'between', 'into', 'through', 'during', 'before', 'after',\\\n",
    "            'above', 'below', 'to', 'from', 'up', 'down', 'in', 'out', 'on', 'off', 'over', 'under', 'again', 'further',\\\n",
    "            'then', 'once', 'here', 'there', 'when', 'where', 'why', 'how', 'all', 'any', 'both', 'each', 'few', 'more',\\\n",
    "            'most', 'other', 'some', 'such', 'only', 'own', 'same', 'so', 'than', 'too', 'very', \\\n",
    "            's', 't', 'can', 'will', 'just', 'don', \"don't\", 'should', \"should've\", 'now', 'd', 'll', 'm', 'o', 're', \\\n",
    "            've', 'y', 'ain', 'aren', \"aren't\", 'couldn', \"couldn't\", 'didn', \"didn't\", 'doesn', \"doesn't\", 'hadn',\\\n",
    "            \"hadn't\", 'hasn', \"hasn't\", 'haven', \"haven't\", 'isn', \"isn't\", 'ma', 'mightn', \"mightn't\", 'mustn',\\\n",
    "            \"mustn't\", 'needn', \"needn't\", 'shan', \"shan't\", 'shouldn', \"shouldn't\", 'wasn', \"wasn't\", 'weren', \"weren't\", \\\n",
    "            'won', \"won't\", 'wouldn', \"wouldn't\"])"
   ]
  },
  {
   "cell_type": "markdown",
   "metadata": {},
   "source": [
    "## Time based splitting\n",
    "* Sort the data based on `Time` column\n",
    "* Get the 80% data for train and 20% data on test"
   ]
  },
  {
   "cell_type": "code",
   "execution_count": 109,
   "metadata": {},
   "outputs": [],
   "source": [
    "# time based splitting for a dataframe\n",
    "def split_time_based(df, time_col, train_perc):\n",
    "    if type(df).__name__ != 'DataFrame':\n",
    "        print(\"Please provide a dataframe!\")\n",
    "    if type(time_col).__name__ != 'list':\n",
    "        print(\"Please porvide the time column as list\")\n",
    "    # Sort the dataframe based on time column\n",
    "    df.sort_values(by=time_col, inplace=True)\n",
    "    df_row, df_col = df.shape\n",
    "    train_row = round(df_row * (train_perc/100))\n",
    "    test_row = df_row - train_row\n",
    "    return df.head(train_row), df.tail(test_row)"
   ]
  },
  {
   "cell_type": "code",
   "execution_count": 110,
   "metadata": {},
   "outputs": [
    {
     "name": "stdout",
     "output_type": "stream",
     "text": [
      "(7651, 10)\n",
      "(1913, 10)\n"
     ]
    }
   ],
   "source": [
    "# Splitting the data based on Time column, where train=80% and test=20%\n",
    "final_train, final_test = split_time_based(final, ['Time'], 80)\n",
    "print(final_train.shape)\n",
    "print(final_test.shape)"
   ]
  },
  {
   "cell_type": "code",
   "execution_count": 111,
   "metadata": {},
   "outputs": [
    {
     "name": "stderr",
     "output_type": "stream",
     "text": [
      "100%|████████████████████████████████████████████████████████████████████████████| 7651/7651 [00:03<00:00, 2042.99it/s]\n"
     ]
    }
   ],
   "source": [
    "# Combining all the above stundents \n",
    "from tqdm import tqdm\n",
    "preprocessed_reviews_train = []\n",
    "# tqdm is for printing the status bar\n",
    "for sentance in tqdm(final_train['Text'].values):\n",
    "    sentance = re.sub(r\"http\\S+\", \"\", sentance)\n",
    "    sentance = BeautifulSoup(sentance, 'lxml').get_text()\n",
    "    sentance = decontracted(sentance)\n",
    "    sentance = re.sub(\"\\S*\\d\\S*\", \"\", sentance).strip()\n",
    "    sentance = re.sub('[^A-Za-z]+', ' ', sentance)\n",
    "    # https://gist.github.com/sebleier/554280\n",
    "    sentance = ' '.join(e.lower() for e in sentance.split() if e.lower() not in stopwords)\n",
    "    preprocessed_reviews_train.append(sentance.strip())"
   ]
  },
  {
   "cell_type": "code",
   "execution_count": 112,
   "metadata": {},
   "outputs": [
    {
     "name": "stderr",
     "output_type": "stream",
     "text": [
      "100%|████████████████████████████████████████████████████████████████████████████| 1913/1913 [00:00<00:00, 2159.58it/s]\n"
     ]
    }
   ],
   "source": [
    "# Combining all the above stundents \n",
    "from tqdm import tqdm\n",
    "preprocessed_reviews_test = []\n",
    "# tqdm is for printing the status bar\n",
    "for sentance in tqdm(final_test['Text'].values):\n",
    "    sentance = re.sub(r\"http\\S+\", \"\", sentance)\n",
    "    sentance = BeautifulSoup(sentance, 'lxml').get_text()\n",
    "    sentance = decontracted(sentance)\n",
    "    sentance = re.sub(\"\\S*\\d\\S*\", \"\", sentance).strip()\n",
    "    sentance = re.sub('[^A-Za-z]+', ' ', sentance)\n",
    "    # https://gist.github.com/sebleier/554280\n",
    "    sentance = ' '.join(e.lower() for e in sentance.split() if e.lower() not in stopwords)\n",
    "    preprocessed_reviews_test.append(sentance.strip())"
   ]
  },
  {
   "cell_type": "code",
   "execution_count": 113,
   "metadata": {},
   "outputs": [
    {
     "name": "stdout",
     "output_type": "stream",
     "text": [
      "Train:  7651\n",
      "Test:  1913\n"
     ]
    }
   ],
   "source": [
    "print(\"Train: \",len(preprocessed_reviews_train))\n",
    "print(\"Test: \",len(preprocessed_reviews_test))"
   ]
  },
  {
   "cell_type": "code",
   "execution_count": 114,
   "metadata": {},
   "outputs": [],
   "source": [
    "y_train = final_train['Score']\n",
    "y_test = final_test['Score']\n",
    "\n",
    "y_train = y_train.values\n",
    "y_test = y_test.values"
   ]
  },
  {
   "cell_type": "markdown",
   "metadata": {},
   "source": [
    "# [4] Featurization"
   ]
  },
  {
   "cell_type": "markdown",
   "metadata": {},
   "source": [
    "## [4.1] BAG OF WORDS"
   ]
  },
  {
   "cell_type": "code",
   "execution_count": 115,
   "metadata": {},
   "outputs": [
    {
     "name": "stdout",
     "output_type": "stream",
     "text": [
      "some feature names  ['aa', 'aaaa', 'ab', 'aback', 'abandon', 'abates', 'abbott', 'abby', 'abdominal', 'abiding']\n",
      "==================================================\n",
      "the type of count vectorizer  <class 'scipy.sparse.csr.csr_matrix'>\n",
      "the shape of out text BOW vectorizer  (7651, 16577)\n",
      "the number of unique words  16577\n"
     ]
    }
   ],
   "source": [
    "#BoW for Train data\n",
    "count_vect = CountVectorizer() #in scikit-learn\n",
    "count_vect.fit(preprocessed_reviews_train)\n",
    "print(\"some feature names \", count_vect.get_feature_names()[:10])\n",
    "print('='*50)\n",
    "\n",
    "final_counts_train = count_vect.transform(preprocessed_reviews_train)\n",
    "print(\"the type of count vectorizer \",type(final_counts_train))\n",
    "print(\"the shape of out text BOW vectorizer \",final_counts_train.get_shape())\n",
    "print(\"the number of unique words \", final_counts_train.get_shape()[1])"
   ]
  },
  {
   "cell_type": "code",
   "execution_count": 116,
   "metadata": {},
   "outputs": [
    {
     "name": "stdout",
     "output_type": "stream",
     "text": [
      "the type of count vectorizer  <class 'scipy.sparse.csr.csr_matrix'>\n",
      "the shape of out text BOW vectorizer  (1913, 16577)\n",
      "the number of unique words  16577\n"
     ]
    }
   ],
   "source": [
    "#BoW for Test data\n",
    "final_counts_test = count_vect.transform(preprocessed_reviews_test)\n",
    "print(\"the type of count vectorizer \",type(final_counts_test))\n",
    "print(\"the shape of out text BOW vectorizer \",final_counts_test.get_shape())\n",
    "print(\"the number of unique words \", final_counts_test.get_shape()[1])"
   ]
  },
  {
   "cell_type": "markdown",
   "metadata": {},
   "source": [
    "## [4.2] TF-IDF"
   ]
  },
  {
   "cell_type": "code",
   "execution_count": 117,
   "metadata": {},
   "outputs": [
    {
     "name": "stdout",
     "output_type": "stream",
     "text": [
      "some sample features(unique words in the corpus) ['ability', 'able', 'able eat', 'able find', 'able get', 'able use', 'absolute', 'absolute best', 'absolute favorite', 'absolutely']\n",
      "==================================================\n",
      "the type of count vectorizer  <class 'scipy.sparse.csr.csr_matrix'>\n",
      "the shape of out text TFIDF vectorizer  (7651, 4762)\n",
      "the number of unique words including both unigrams and bigrams  4762\n"
     ]
    }
   ],
   "source": [
    "#TFIDF on Train data\n",
    "tf_idf_vect = TfidfVectorizer(ngram_range=(1,2), min_df=10)\n",
    "tf_idf_vect.fit(preprocessed_reviews_train)\n",
    "print(\"some sample features(unique words in the corpus)\",tf_idf_vect.get_feature_names()[0:10])\n",
    "print('='*50)\n",
    "\n",
    "final_tf_idf_train = tf_idf_vect.transform(preprocessed_reviews_train)\n",
    "print(\"the type of count vectorizer \",type(final_tf_idf_train))\n",
    "print(\"the shape of out text TFIDF vectorizer \",final_tf_idf_train.get_shape())\n",
    "print(\"the number of unique words including both unigrams and bigrams \", final_tf_idf_train.get_shape()[1])"
   ]
  },
  {
   "cell_type": "code",
   "execution_count": 118,
   "metadata": {},
   "outputs": [
    {
     "name": "stdout",
     "output_type": "stream",
     "text": [
      "the type of count vectorizer  <class 'scipy.sparse.csr.csr_matrix'>\n",
      "the shape of out text TFIDF vectorizer  (1913, 4762)\n",
      "the number of unique words including both unigrams and bigrams  4762\n"
     ]
    }
   ],
   "source": [
    "# TFIDF on Test data\n",
    "final_tf_idf_test = tf_idf_vect.transform(preprocessed_reviews_test)\n",
    "print(\"the type of count vectorizer \",type(final_tf_idf_test))\n",
    "print(\"the shape of out text TFIDF vectorizer \",final_tf_idf_test.get_shape())\n",
    "print(\"the number of unique words including both unigrams and bigrams \", final_tf_idf_test.get_shape()[1])"
   ]
  },
  {
   "cell_type": "markdown",
   "metadata": {},
   "source": [
    "## [4.3] Word2Vec"
   ]
  },
  {
   "cell_type": "code",
   "execution_count": 119,
   "metadata": {},
   "outputs": [],
   "source": [
    "# Train your own Word2Vec model using your own text corpus\n",
    "i=0\n",
    "list_of_sentance_train=[]\n",
    "list_of_sentance_test=[]\n",
    "for sentance in preprocessed_reviews_train:\n",
    "    list_of_sentance_train.append(sentance.split())\n",
    "for sentance in preprocessed_reviews_test:\n",
    "    list_of_sentance_test.append(sentance.split())\n",
    "\n",
    "# Applying to W2V model on train data\n",
    "w2v_model=Word2Vec(list_of_sentance_train,min_count=5,size=500, workers=4) # min count --> ignore those words having count less than 5, size --> dimensions for each word"
   ]
  },
  {
   "cell_type": "code",
   "execution_count": 120,
   "metadata": {},
   "outputs": [
    {
     "name": "stdout",
     "output_type": "stream",
     "text": [
      "number of words that occured minimum 5 times  5033\n",
      "sample words  ['really', 'good', 'idea', 'final', 'product', 'outstanding', 'use', 'car', 'everybody', 'asks', 'bought', 'made', 'two', 'thumbs', 'received', 'shipment', 'could', 'hardly', 'wait', 'try', 'love', 'call', 'instead', 'stickers', 'removed', 'easily', 'daughter', 'designed', 'printed', 'windows', 'beautifully', 'print', 'shop', 'program', 'going', 'lot', 'fun', 'everywhere', 'like', 'tv', 'computer', 'winter', 'fresh', 'blueberries', 'food', 'budget', 'dried', 'blue', 'berries', 'fine']\n"
     ]
    }
   ],
   "source": [
    "w2v_words = list(w2v_model.wv.vocab)\n",
    "print(\"number of words that occured minimum 5 times \",len(w2v_words))\n",
    "print(\"sample words \", w2v_words[0:50])"
   ]
  },
  {
   "cell_type": "markdown",
   "metadata": {},
   "source": [
    "## [4.3.1] Converting text into vectors using Avg W2V, TFIDF-W2V"
   ]
  },
  {
   "cell_type": "markdown",
   "metadata": {},
   "source": [
    "#### [4.3.1.1] Avg W2v"
   ]
  },
  {
   "cell_type": "code",
   "execution_count": 121,
   "metadata": {},
   "outputs": [
    {
     "name": "stderr",
     "output_type": "stream",
     "text": [
      "100%|█████████████████████████████████████████████████████████████████████████████| 7651/7651 [00:10<00:00, 723.75it/s]\n"
     ]
    },
    {
     "name": "stdout",
     "output_type": "stream",
     "text": [
      "7651\n",
      "500\n"
     ]
    }
   ],
   "source": [
    "# average Word2Vec on Train data\n",
    "# compute average word2vec for each review.\n",
    "sent_vectors_train = []; # the avg-w2v for each sentence/review is stored in this list\n",
    "for sent in tqdm(list_of_sentance_train): # for each review/sentence\n",
    "    sent_vec = np.zeros(500) # as word vectors are of zero length 50, you might need to change this to 300 if you use google's w2v\n",
    "    cnt_words =0; # num of words with a valid vector in the sentence/review\n",
    "    for word in sent: # for each word in a review/sentence\n",
    "        if word in w2v_words:\n",
    "            vec = w2v_model.wv[word]\n",
    "            sent_vec += vec\n",
    "            cnt_words += 1\n",
    "    if cnt_words != 0:\n",
    "        sent_vec /= cnt_words\n",
    "    sent_vectors_train.append(sent_vec)\n",
    "print(len(sent_vectors_train))\n",
    "print(len(sent_vectors_train[0]))"
   ]
  },
  {
   "cell_type": "code",
   "execution_count": 122,
   "metadata": {},
   "outputs": [
    {
     "name": "stderr",
     "output_type": "stream",
     "text": [
      "100%|█████████████████████████████████████████████████████████████████████████████| 1913/1913 [00:02<00:00, 769.83it/s]\n"
     ]
    },
    {
     "name": "stdout",
     "output_type": "stream",
     "text": [
      "1913\n",
      "500\n"
     ]
    }
   ],
   "source": [
    "# average Word2Vec on Test data\n",
    "# compute average word2vec for each review.\n",
    "sent_vectors_test = []; # the avg-w2v for each sentence/review is stored in this list\n",
    "for sent in tqdm(list_of_sentance_test): # for each review/sentence\n",
    "    sent_vec = np.zeros(500) # as word vectors are of zero length 50, you might need to change this to 300 if you use google's w2v\n",
    "    cnt_words =0; # num of words with a valid vector in the sentence/review\n",
    "    for word in sent: # for each word in a review/sentence\n",
    "        if word in w2v_words:\n",
    "            vec = w2v_model.wv[word]\n",
    "            sent_vec += vec\n",
    "            cnt_words += 1\n",
    "    if cnt_words != 0:\n",
    "        sent_vec /= cnt_words\n",
    "    sent_vectors_test.append(sent_vec)\n",
    "print(len(sent_vectors_test))\n",
    "print(len(sent_vectors_test[0]))"
   ]
  },
  {
   "cell_type": "markdown",
   "metadata": {},
   "source": [
    "#### [4.3.1.2] TFIDF weighted W2v"
   ]
  },
  {
   "cell_type": "code",
   "execution_count": 123,
   "metadata": {},
   "outputs": [],
   "source": [
    "# S = [\"abc def pqr\", \"def def def abc\", \"pqr pqr def\"]\n",
    "model = TfidfVectorizer()\n",
    "tf_idf_matrix = model.fit_transform(preprocessed_reviews_train)\n",
    "# we are converting a dictionary with word as a key, and the idf as a value\n",
    "dictionary = dict(zip(model.get_feature_names(), list(model.idf_)))"
   ]
  },
  {
   "cell_type": "code",
   "execution_count": 124,
   "metadata": {
    "scrolled": true
   },
   "outputs": [
    {
     "name": "stderr",
     "output_type": "stream",
     "text": [
      "100%|█████████████████████████████████████████████████████████████████████████████| 7651/7651 [01:12<00:00, 105.81it/s]\n"
     ]
    }
   ],
   "source": [
    "# TF-IDF weighted Word2Vec for Train data\n",
    "tfidf_feat = model.get_feature_names() # tfidf words/col-names\n",
    "# final_tf_idf is the sparse matrix with row= sentence, col=word and cell_val = tfidf\n",
    "\n",
    "tfidf_sent_vectors_train = []; # the tfidf-w2v for each sentence/review is stored in this list\n",
    "row=0;\n",
    "for sent in tqdm(list_of_sentance_train): # for each review/sentence \n",
    "    sent_vec = np.zeros(500) # as word vectors are of zero length\n",
    "    weight_sum =0; # num of words with a valid vector in the sentence/review\n",
    "    for word in sent: # for each word in a review/sentence\n",
    "        if word in w2v_words and word in tfidf_feat:\n",
    "            vec = w2v_model.wv[word]\n",
    "#             tf_idf = tf_idf_matrix[row, tfidf_feat.index(word)]\n",
    "            # to reduce the computation we are \n",
    "            # dictionary[word] = idf value of word in whole courpus\n",
    "            # sent.count(word) = tf valeus of word in this review\n",
    "            tf_idf = dictionary[word]*(sent.count(word)/len(sent))\n",
    "            sent_vec += (vec * tf_idf)\n",
    "            weight_sum += tf_idf\n",
    "    if weight_sum != 0:\n",
    "        sent_vec /= weight_sum\n",
    "    tfidf_sent_vectors_train.append(sent_vec)\n",
    "    row += 1"
   ]
  },
  {
   "cell_type": "code",
   "execution_count": 125,
   "metadata": {},
   "outputs": [
    {
     "name": "stderr",
     "output_type": "stream",
     "text": [
      "100%|█████████████████████████████████████████████████████████████████████████████| 1913/1913 [00:15<00:00, 120.59it/s]\n"
     ]
    }
   ],
   "source": [
    "# TF-IDF weighted Word2Vec for Test data\n",
    "tfidf_feat = model.get_feature_names() # tfidf words/col-names\n",
    "# final_tf_idf is the sparse matrix with row= sentence, col=word and cell_val = tfidf\n",
    "\n",
    "tfidf_sent_vectors_test = []; # the tfidf-w2v for each sentence/review is stored in this list\n",
    "row=0;\n",
    "for sent in tqdm(list_of_sentance_test): # for each review/sentence \n",
    "    sent_vec = np.zeros(500) # as word vectors are of zero length\n",
    "    weight_sum =0; # num of words with a valid vector in the sentence/review\n",
    "    for word in sent: # for each word in a review/sentence\n",
    "        if word in w2v_words and word in tfidf_feat:\n",
    "            vec = w2v_model.wv[word]\n",
    "#             tf_idf = tf_idf_matrix[row, tfidf_feat.index(word)]\n",
    "            # to reduce the computation we are \n",
    "            # dictionary[word] = idf value of word in whole courpus\n",
    "            # sent.count(word) = tf valeus of word in this review\n",
    "            tf_idf = dictionary[word]*(sent.count(word)/len(sent))\n",
    "            sent_vec += (vec * tf_idf)\n",
    "            weight_sum += tf_idf\n",
    "    if weight_sum != 0:\n",
    "        sent_vec /= weight_sum\n",
    "    tfidf_sent_vectors_test.append(sent_vec)\n",
    "    row += 1"
   ]
  },
  {
   "cell_type": "markdown",
   "metadata": {},
   "source": [
    "### Pickling the data\n",
    "* Pickling the train and test data for all the implementations\n",
    "* BoW\n",
    "* TFIDF\n",
    "* Avg-W2Vec\n",
    "* TFIDF W2Vec"
   ]
  },
  {
   "cell_type": "code",
   "execution_count": 128,
   "metadata": {},
   "outputs": [],
   "source": [
    "import pickle\n",
    "\n",
    "bow_train = 'bow_train.pkl'\n",
    "bow_test = 'bow_test.pkl'\n",
    "tfidf_train = 'tfidf_train.pkl'\n",
    "tfidf_test = 'tfidf_test.pkl'\n",
    "avgw2v_train = 'avgw2v_train.pkl'\n",
    "avgw2v_test = 'avgw2v_test.pkl'\n",
    "tfidfw2v_train = 'tfidfw2v_train.pkl'\n",
    "tfidfw2v_test = 'tfidfw2v_test.pkl'\n",
    "\n",
    "obj1 = open(bow_train,'wb')\n",
    "pickle.dump(final_counts_train, obj1)\n",
    "obj1.close()\n",
    "\n",
    "obj2 = open(bow_test,'wb')\n",
    "pickle.dump(final_counts_test, obj2)\n",
    "obj2.close()\n",
    "\n",
    "obj3 = open(tfidf_train,'wb')\n",
    "pickle.dump(final_tf_idf_train, obj3)\n",
    "obj3.close()\n",
    "\n",
    "obj4 = open(tfidf_test,'wb')\n",
    "pickle.dump(final_tf_idf_test, obj4)\n",
    "obj4.close()\n",
    "\n",
    "obj5 = open(avgw2v_train,'wb')\n",
    "pickle.dump(sent_vectors_train, obj5)\n",
    "obj5.close()\n",
    "\n",
    "obj6 = open(avgw2v_test,'wb')\n",
    "pickle.dump(sent_vectors_test, obj6)\n",
    "obj6.close()\n",
    "\n",
    "obj7 = open(tfidfw2v_train,'wb')\n",
    "pickle.dump(tfidf_sent_vectors_train, obj7)\n",
    "obj7.close()\n",
    "\n",
    "obj8 = open(tfidfw2v_test,'wb')\n",
    "pickle.dump(tfidf_sent_vectors_test, obj8)\n",
    "obj8.close()"
   ]
  },
  {
   "cell_type": "markdown",
   "metadata": {},
   "source": [
    "# [5]KNN"
   ]
  },
  {
   "cell_type": "markdown",
   "metadata": {},
   "source": [
    "## [5.1] Applying KNN brute force"
   ]
  },
  {
   "cell_type": "markdown",
   "metadata": {},
   "source": [
    "### [5.1.1] Applying KNN brute force on BOW,<font color='red'> SET 1</font>"
   ]
  },
  {
   "cell_type": "code",
   "execution_count": 39,
   "metadata": {},
   "outputs": [],
   "source": [
    "# Sparse to Dense matrix\n",
    "final_counts_train = final_counts_train.toarray()\n",
    "final_counts_test = final_counts_test.toarray()"
   ]
  },
  {
   "cell_type": "markdown",
   "metadata": {},
   "source": [
    "Applying <b>PCA</b> to reduce the dimensionality for the ease of purpose"
   ]
  },
  {
   "cell_type": "code",
   "execution_count": 40,
   "metadata": {},
   "outputs": [
    {
     "name": "stdout",
     "output_type": "stream",
     "text": [
      "Train Data shape:  (7651, 500)\n",
      "Test Data shape:  (1913, 500)\n"
     ]
    }
   ],
   "source": [
    "#*************** Reducing dimensions drastically due to memory issue\n",
    "# Applying PCA to train so that we dont have to work with high dimensions\n",
    "pca = decomposition.PCA(n_components=500)\n",
    "final_counts_train = pca.fit_transform(final_counts_train)\n",
    "final_counts_test = pca.transform(final_counts_test)\n",
    "print(\"Train Data shape: \",final_counts_train.shape)\n",
    "print(\"Test Data shape: \",final_counts_test.shape)"
   ]
  },
  {
   "cell_type": "code",
   "execution_count": 41,
   "metadata": {},
   "outputs": [
    {
     "name": "stdout",
     "output_type": "stream",
     "text": [
      "After Dimension reduction we retain 75.0% of information.\n"
     ]
    }
   ],
   "source": [
    "# Explaned variance\n",
    "information = pca.explained_variance_ratio_.cumsum()\n",
    "print(\"After Dimension reduction we retain {}% of information.\".format(round(information[-1] * 100),2))"
   ]
  },
  {
   "cell_type": "markdown",
   "metadata": {},
   "source": [
    "#### Applying KNN\n",
    "* Taking a range of odd neighbours as this is a binary classification.\n",
    "* We have used 10 fold cross validation\n",
    "* The optimum 'K' is measured from the maximum value of AUC"
   ]
  },
  {
   "cell_type": "code",
   "execution_count": 42,
   "metadata": {},
   "outputs": [
    {
     "name": "stderr",
     "output_type": "stream",
     "text": [
      "100%|██████████████████████████████████████████████████████████████████████████████████| 25/25 [01:01<00:00,  2.50s/it]\n"
     ]
    },
    {
     "name": "stdout",
     "output_type": "stream",
     "text": [
      "The optimal 'K' value is: 49\n",
      "Total time taken: 61.53031587600708\n"
     ]
    }
   ],
   "source": [
    "s_time = time.time()\n",
    "neighbors = list(range(1,50,2)) # Creating odd number of neighbors to get the optimal k\n",
    "mean_fpr = np.linspace(0, 1, 100)\n",
    "area_under_roc = []\n",
    "tprs = []\n",
    "for k in tqdm(neighbors):\n",
    "    knn = KNeighborsClassifier(n_neighbors=k, weights='distance', algorithm='brute')\n",
    "    cv = StratifiedKFold(n_splits=10)\n",
    "    for train, test in cv.split(final_counts_train, y_train):\n",
    "        proba = knn.fit(final_counts_train[train], y_train[train]).predict_proba(final_counts_train[test])\n",
    "        fpr, tpr, thresholds = roc_curve(y_train[test], proba[:, 1])\n",
    "        tprs.append(interp(mean_fpr, fpr, tpr)) # Calculation taken from sklearn auc documentation\n",
    "    mean_tpr = np.mean(tprs, axis=0)\n",
    "    mean_auc = auc(mean_fpr, mean_tpr)\n",
    "    area_under_roc.append(mean_auc)\n",
    "\n",
    "optimal_k = neighbors[area_under_roc.index(max(area_under_roc))]\n",
    "e_time = time.time()\n",
    "print(\"The optimal 'K' value is: {}\".format(optimal_k))\n",
    "print(\"Total time taken: {}\".format(e_time-s_time))"
   ]
  },
  {
   "cell_type": "code",
   "execution_count": 43,
   "metadata": {},
   "outputs": [
    {
     "data": {
      "image/png": "[encoded data removed]",
      "text/plain": [
       "<Figure size 432x288 with 1 Axes>"
      ]
     },
     "metadata": {},
     "output_type": "display_data"
    }
   ],
   "source": [
    "# Plot the AUC vs K curve\n",
    "plt.title('AUC vs K curve for K-NN (Brute technique) for BoW')\n",
    "plt.plot(neighbors,area_under_roc, label='Train AUC')\n",
    "# plt.plot(neighbors, cv_scores, label='Train accuracy')\n",
    "plt.legend()\n",
    "plt.xlabel('Number of neighbors')\n",
    "plt.ylabel('AUC')\n",
    "plt.show()"
   ]
  },
  {
   "cell_type": "code",
   "execution_count": 44,
   "metadata": {},
   "outputs": [
    {
     "name": "stdout",
     "output_type": "stream",
     "text": [
      "The optimal 'K' value is: 49\n",
      "Accuracy on test set: 82.175%\n",
      "Precision on test set: 0.837\n",
      "Recall on test set: 0.973\n",
      "F1-Score on test set: 0.899\n",
      "Confusion Matrix of test set\n"
     ]
    },
    {
     "data": {
      "text/plain": [
       "<matplotlib.axes._subplots.AxesSubplot at 0x177000c2710>"
      ]
     },
     "execution_count": 44,
     "metadata": {},
     "output_type": "execute_result"
    },
    {
     "data": {
      "image/png": "[encoded data removed]",
      "text/plain": [
       "<Figure size 432x288 with 2 Axes>"
      ]
     },
     "metadata": {},
     "output_type": "display_data"
    }
   ],
   "source": [
    "# ============================== KNN with k = optimal_k ===============================================\n",
    "print(\"The optimal 'K' value is: {}\".format(optimal_k))\n",
    "knn_optimal = KNeighborsClassifier(n_neighbors=11, weights='distance', algorithm='brute')\n",
    "\n",
    "# fitting the model\n",
    "knn_optimal.fit(final_counts_train, y_train)\n",
    "\n",
    "# predict the response\n",
    "pred_proba = knn_optimal.predict_proba(final_counts_test)\n",
    "pred = knn_optimal.predict(final_counts_test)\n",
    "\n",
    "fpr, tpr, thresholds = roc_curve(y_test, pred_proba[:, 1])\n",
    "# evaluate accuracy\n",
    "print(\"Accuracy on test set: %0.3f%%\"%(accuracy_score(y_test, pred)*100))\n",
    "print(\"Precision on test set: %0.3f\"%(precision_score(y_test, pred)))\n",
    "print(\"Recall on test set: %0.3f\"%(recall_score(y_test, pred)))\n",
    "print(\"F1-Score on test set: %0.3f\"%(f1_score(y_test, pred)))\n",
    "print(\"Confusion Matrix of test set\")\n",
    "df_cm = pd.DataFrame(confusion_matrix(y_test, pred), range(2),range(2))\n",
    "sns.set(font_scale=1.4)\n",
    "# Concept of heat map on confusion matrix and accuracy scores taken from : https://github.com/cyanamous/Amazon-Food-Reviews-Analysis-and-Modelling/blob/master/2%20Amazon%20Food%20Reviews%20-%20KNN%20.ipynb\n",
    "sns.heatmap(df_cm, annot=True,annot_kws={\"size\": 16}, fmt='g')\n"
   ]
  },
  {
   "cell_type": "code",
   "execution_count": 45,
   "metadata": {},
   "outputs": [
    {
     "name": "stderr",
     "output_type": "stream",
     "text": [
      "No handles with labels found to put in legend.\n"
     ]
    },
    {
     "data": {
      "image/png": "[encoded data removed]",
      "text/plain": [
       "<Figure size 432x288 with 1 Axes>"
      ]
     },
     "metadata": {},
     "output_type": "display_data"
    }
   ],
   "source": [
    "# Plot the ROC curve\n",
    "plt.title('ROC curve for K-NN (Brute technique) for BoW')\n",
    "plt.plot([0, 1], [0, 1], linestyle='--', lw=2, color='r')\n",
    "plt.plot(fpr, tpr, color='b')\n",
    "# plt.plot(neighbors, cv_scores, label='Train accuracy')\n",
    "plt.legend()\n",
    "plt.xlabel('FPR')\n",
    "plt.ylabel('TPR')\n",
    "plt.show()"
   ]
  },
  {
   "cell_type": "markdown",
   "metadata": {},
   "source": [
    "#### Observation:\n",
    "* The model is predicting minority class less accurately might be for imbalanced data, only 50 points are predicted as 0 out of 344 points"
   ]
  },
  {
   "cell_type": "code",
   "execution_count": 46,
   "metadata": {},
   "outputs": [],
   "source": [
    "# Deleteing BoW vectors to clear memory\n",
    "del final_counts_train\n",
    "del final_counts_test"
   ]
  },
  {
   "cell_type": "code",
   "execution_count": 47,
   "metadata": {},
   "outputs": [],
   "source": [
    "plt.close()"
   ]
  },
  {
   "cell_type": "markdown",
   "metadata": {},
   "source": [
    "### [5.1.2] Applying KNN brute force on TFIDF,<font color='red'> SET 2</font>"
   ]
  },
  {
   "cell_type": "code",
   "execution_count": 48,
   "metadata": {},
   "outputs": [],
   "source": [
    "# Sparse to Dense matrix\n",
    "final_tf_idf_train = final_tf_idf_train.toarray()\n",
    "final_tf_idf_test = final_tf_idf_test.toarray()"
   ]
  },
  {
   "cell_type": "markdown",
   "metadata": {},
   "source": [
    "Applying <b>PCA</b> to reduce the dimensionality for the ease of purpose"
   ]
  },
  {
   "cell_type": "code",
   "execution_count": 49,
   "metadata": {},
   "outputs": [
    {
     "name": "stdout",
     "output_type": "stream",
     "text": [
      "Train Data shape:  (7651, 500)\n",
      "Test Data shape:  (1913, 500)\n"
     ]
    }
   ],
   "source": [
    "#*************** Reducing dimensions drastically due to memory issue\n",
    "# Applying PCA to train so that we dont have to work with high dimensions\n",
    "pca = decomposition.PCA(n_components=500)\n",
    "final_tf_idf_train = pca.fit_transform(final_tf_idf_train)\n",
    "final_tf_idf_test = pca.transform(final_tf_idf_test)\n",
    "print(\"Train Data shape: \",final_tf_idf_train.shape)\n",
    "print(\"Test Data shape: \",final_tf_idf_test.shape)"
   ]
  },
  {
   "cell_type": "code",
   "execution_count": 50,
   "metadata": {},
   "outputs": [
    {
     "name": "stdout",
     "output_type": "stream",
     "text": [
      "After Dimension reduction we retain 50.0% of information.\n"
     ]
    }
   ],
   "source": [
    "# Explaned variance\n",
    "information = pca.explained_variance_ratio_.cumsum()\n",
    "print(\"After Dimension reduction we retain {}% of information.\".format(round(information[-1] * 100),2))"
   ]
  },
  {
   "cell_type": "markdown",
   "metadata": {},
   "source": [
    "#### Applying KNN\n",
    "* Taking a range of odd neighbours as this is a binary classification.\n",
    "* We have used 10 fold cross validation\n",
    "* The optimum 'K' is measured from the maximum value of AUC"
   ]
  },
  {
   "cell_type": "code",
   "execution_count": 51,
   "metadata": {},
   "outputs": [
    {
     "name": "stderr",
     "output_type": "stream",
     "text": [
      "100%|██████████████████████████████████████████████████████████████████████████████████| 25/25 [00:56<00:00,  2.30s/it]\n"
     ]
    },
    {
     "name": "stdout",
     "output_type": "stream",
     "text": [
      "The optimal 'K' value is: 49\n",
      "Total time taken: 56.68290638923645\n"
     ]
    }
   ],
   "source": [
    "s_time = time.time()\n",
    "neighbors = list(range(1,50,2)) # Creating odd number of neighbors to get the optimal k\n",
    "mean_fpr = np.linspace(0, 1, 100)\n",
    "area_under_roc = []\n",
    "tprs = []\n",
    "for k in tqdm(neighbors):\n",
    "    knn = KNeighborsClassifier(n_neighbors=k, weights='distance', algorithm='brute')\n",
    "    cv = StratifiedKFold(n_splits=10)\n",
    "    for train, test in cv.split(final_tf_idf_train, y_train):\n",
    "        proba = knn.fit(final_tf_idf_train[train], y_train[train]).predict_proba(final_tf_idf_train[test])\n",
    "        fpr, tpr, thresholds = roc_curve(y_train[test], proba[:, 1])\n",
    "        tprs.append(interp(mean_fpr, fpr, tpr)) # Calculation taken from sklearn auc documentation\n",
    "    mean_tpr = np.mean(tprs, axis=0)\n",
    "    mean_auc = auc(mean_fpr, mean_tpr)\n",
    "    area_under_roc.append(mean_auc)\n",
    "\n",
    "optimal_k = neighbors[area_under_roc.index(max(area_under_roc))]\n",
    "e_time = time.time()\n",
    "print(\"The optimal 'K' value is: {}\".format(optimal_k))\n",
    "print(\"Total time taken: {}\".format(e_time-s_time))"
   ]
  },
  {
   "cell_type": "code",
   "execution_count": 52,
   "metadata": {},
   "outputs": [
    {
     "data": {
      "text/plain": [
       "0.6600792329789413"
      ]
     },
     "execution_count": 52,
     "metadata": {},
     "output_type": "execute_result"
    }
   ],
   "source": [
    "max(area_under_roc)"
   ]
  },
  {
   "cell_type": "code",
   "execution_count": 53,
   "metadata": {},
   "outputs": [
    {
     "data": {
      "image/png": "[encoded data removed]",
      "text/plain": [
       "<Figure size 432x288 with 1 Axes>"
      ]
     },
     "metadata": {},
     "output_type": "display_data"
    }
   ],
   "source": [
    "# Plot the AUC vs K curve\n",
    "plt.title('AUC vs K curve for K-NN (Brute technique) for BoW')\n",
    "plt.plot(neighbors,area_under_roc, label='Train AUC')\n",
    "# plt.plot(neighbors, cv_scores, label='Train accuracy')\n",
    "plt.legend()\n",
    "plt.xlabel('Number of neighbors')\n",
    "plt.ylabel('AUC')\n",
    "plt.show()"
   ]
  },
  {
   "cell_type": "code",
   "execution_count": 54,
   "metadata": {},
   "outputs": [
    {
     "name": "stdout",
     "output_type": "stream",
     "text": [
      "The optimal 'K' value is: 49\n",
      "Accuracy on test set: 82.018%\n",
      "Precision on test set: 0.821\n",
      "Recall on test set: 0.999\n",
      "F1-Score on test set: 0.901\n",
      "Confusion Matrix of test set\n"
     ]
    },
    {
     "data": {
      "text/plain": [
       "<matplotlib.axes._subplots.AxesSubplot at 0x177045b25c0>"
      ]
     },
     "execution_count": 54,
     "metadata": {},
     "output_type": "execute_result"
    },
    {
     "data": {
      "image/png": "[encoded data removed]",
      "text/plain": [
       "<Figure size 432x288 with 2 Axes>"
      ]
     },
     "metadata": {},
     "output_type": "display_data"
    }
   ],
   "source": [
    "# ============================== KNN with k = optimal_k ===============================================\n",
    "print(\"The optimal 'K' value is: {}\".format(optimal_k))\n",
    "knn_optimal = KNeighborsClassifier(n_neighbors=11, weights='distance', algorithm='brute')\n",
    "\n",
    "# fitting the model\n",
    "knn_optimal.fit(final_tf_idf_train, y_train)\n",
    "\n",
    "# predict the response\n",
    "pred_proba = knn_optimal.predict_proba(final_tf_idf_test)\n",
    "pred = knn_optimal.predict(final_tf_idf_test)\n",
    "\n",
    "fpr, tpr, thresholds = roc_curve(y_test, pred_proba[:, 1])\n",
    "# evaluate accuracy\n",
    "print(\"Accuracy on test set: %0.3f%%\"%(accuracy_score(y_test, pred)*100))\n",
    "print(\"Precision on test set: %0.3f\"%(precision_score(y_test, pred)))\n",
    "print(\"Recall on test set: %0.3f\"%(recall_score(y_test, pred)))\n",
    "print(\"F1-Score on test set: %0.3f\"%(f1_score(y_test, pred)))\n",
    "print(\"Confusion Matrix of test set\")\n",
    "df_cm = pd.DataFrame(confusion_matrix(y_test, pred), range(2),range(2))\n",
    "sns.set(font_scale=1.4)\n",
    "# Concept of heat map on confusion matrix and accuracy scores taken from : https://github.com/cyanamous/Amazon-Food-Reviews-Analysis-and-Modelling/blob/master/2%20Amazon%20Food%20Reviews%20-%20KNN%20.ipynb\n",
    "sns.heatmap(df_cm, annot=True,annot_kws={\"size\": 16}, fmt='g')\n"
   ]
  },
  {
   "cell_type": "code",
   "execution_count": 55,
   "metadata": {},
   "outputs": [
    {
     "name": "stderr",
     "output_type": "stream",
     "text": [
      "No handles with labels found to put in legend.\n"
     ]
    },
    {
     "data": {
      "image/png": "[encoded data removed]",
      "text/plain": [
       "<Figure size 432x288 with 1 Axes>"
      ]
     },
     "metadata": {},
     "output_type": "display_data"
    }
   ],
   "source": [
    "# Plot the ROC curve\n",
    "plt.title('ROC curve for K-NN (Brute technique) for BoW')\n",
    "plt.plot([0, 1], [0, 1], linestyle='--', lw=2, color='r')\n",
    "plt.plot(fpr, tpr, color='b')\n",
    "# plt.plot(neighbors, cv_scores, label='Train accuracy')\n",
    "plt.legend()\n",
    "plt.xlabel('FPR')\n",
    "plt.ylabel('TPR')\n",
    "plt.show()"
   ]
  },
  {
   "cell_type": "markdown",
   "metadata": {},
   "source": [
    "#### Observation:\n",
    "* The model is predicting minority class less accurately than the BoW implimentation.\n",
    "* This could be because of imbalanced data and due to heavy information loss after using PCA\n",
    "* The ROC curve is also very poor\n",
    "* The Area Under ROC is is also very less only ~0.65"
   ]
  },
  {
   "cell_type": "code",
   "execution_count": 56,
   "metadata": {},
   "outputs": [],
   "source": [
    "# Releasing memory\n",
    "del final_tf_idf_train\n",
    "del final_tf_idf_test\n",
    "plt.close()"
   ]
  },
  {
   "cell_type": "markdown",
   "metadata": {},
   "source": [
    "### [5.1.3] Applying KNN brute force on AVG W2V,<font color='red'> SET 3</font>"
   ]
  },
  {
   "cell_type": "markdown",
   "metadata": {},
   "source": [
    "#### Applying KNN\n",
    "* Taking a range of odd neighbours as this is a binary classification.\n",
    "* We have used 10 fold cross validation\n",
    "* The optimum 'K' is measured from the maximum value of AUC"
   ]
  },
  {
   "cell_type": "code",
   "execution_count": 75,
   "metadata": {},
   "outputs": [
    {
     "name": "stderr",
     "output_type": "stream",
     "text": [
      "100%|██████████████████████████████████████████████████████████████████████████████████| 25/25 [01:15<00:00,  3.05s/it]\n"
     ]
    },
    {
     "name": "stdout",
     "output_type": "stream",
     "text": [
      "The optimal 'K' value is: 49\n",
      "Total time taken: 75.40691256523132\n"
     ]
    }
   ],
   "source": [
    "s_time = time.time()\n",
    "neighbors = list(range(1,50,2)) # Creating odd number of neighbors to get the optimal k\n",
    "mean_fpr = np.linspace(0, 1, 100)\n",
    "area_under_roc = []\n",
    "tprs = []\n",
    "for k in tqdm(neighbors):\n",
    "    knn = KNeighborsClassifier(n_neighbors=k, weights='distance', algorithm='brute')\n",
    "    cv = StratifiedKFold(n_splits=10)\n",
    "    for train, test in cv.split(sent_vectors_train, y_train):\n",
    "        proba = knn.fit(np.array(sent_vectors_train)[train], y_train[train]).predict_proba(np.array(sent_vectors_train)[test])\n",
    "        fpr, tpr, thresholds = roc_curve(y_train[test], proba[:, 1])\n",
    "        tprs.append(interp(mean_fpr, fpr, tpr)) # Calculation taken from sklearn auc documentation\n",
    "    mean_tpr = np.mean(tprs, axis=0)\n",
    "    mean_auc = auc(mean_fpr, mean_tpr)\n",
    "    area_under_roc.append(mean_auc)\n",
    "\n",
    "optimal_k = neighbors[area_under_roc.index(max(area_under_roc))]\n",
    "e_time = time.time()\n",
    "print(\"The optimal 'K' value is: {}\".format(optimal_k))\n",
    "print(\"Total time taken: {}\".format(e_time-s_time))"
   ]
  },
  {
   "cell_type": "code",
   "execution_count": 76,
   "metadata": {},
   "outputs": [
    {
     "data": {
      "text/plain": [
       "0.6261753615454405"
      ]
     },
     "execution_count": 76,
     "metadata": {},
     "output_type": "execute_result"
    }
   ],
   "source": [
    "max(area_under_roc)"
   ]
  },
  {
   "cell_type": "code",
   "execution_count": 77,
   "metadata": {},
   "outputs": [
    {
     "data": {
      "image/png": "[encoded data removed]",
      "text/plain": [
       "<Figure size 432x288 with 1 Axes>"
      ]
     },
     "metadata": {},
     "output_type": "display_data"
    }
   ],
   "source": [
    "# Plot the AUC vs K curve\n",
    "plt.title('AUC vs K curve for K-NN (Brute technique) for BoW')\n",
    "plt.plot(neighbors,area_under_roc, label='Train AUC')\n",
    "# plt.plot(neighbors, cv_scores, label='Train accuracy')\n",
    "plt.legend()\n",
    "plt.xlabel('Number of neighbors')\n",
    "plt.ylabel('AUC')\n",
    "plt.show()"
   ]
  },
  {
   "cell_type": "code",
   "execution_count": 78,
   "metadata": {},
   "outputs": [
    {
     "name": "stdout",
     "output_type": "stream",
     "text": [
      "The optimal 'K' value is: 49\n",
      "Accuracy on test set: 81.861%\n",
      "Precision on test set: 0.825\n",
      "Recall on test set: 0.989\n",
      "F1-Score on test set: 0.899\n",
      "Confusion Matrix of test set\n"
     ]
    },
    {
     "data": {
      "text/plain": [
       "<matplotlib.axes._subplots.AxesSubplot at 0x177021d1c50>"
      ]
     },
     "execution_count": 78,
     "metadata": {},
     "output_type": "execute_result"
    },
    {
     "data": {
      "image/png": "[encoded data removed]",
      "text/plain": [
       "<Figure size 432x288 with 2 Axes>"
      ]
     },
     "metadata": {},
     "output_type": "display_data"
    }
   ],
   "source": [
    "# ============================== KNN with k = optimal_k ===============================================\n",
    "print(\"The optimal 'K' value is: {}\".format(optimal_k))\n",
    "knn_optimal = KNeighborsClassifier(n_neighbors=11, weights='distance', algorithm='brute')\n",
    "\n",
    "# fitting the model\n",
    "knn_optimal.fit(sent_vectors_train, y_train)\n",
    "\n",
    "# predict the response\n",
    "pred_proba = knn_optimal.predict_proba(sent_vectors_test)\n",
    "pred = knn_optimal.predict(sent_vectors_test)\n",
    "\n",
    "fpr, tpr, thresholds = roc_curve(y_test, pred_proba[:, 1])\n",
    "# evaluate accuracy\n",
    "print(\"Accuracy on test set: %0.3f%%\"%(accuracy_score(y_test, pred)*100))\n",
    "print(\"Precision on test set: %0.3f\"%(precision_score(y_test, pred)))\n",
    "print(\"Recall on test set: %0.3f\"%(recall_score(y_test, pred)))\n",
    "print(\"F1-Score on test set: %0.3f\"%(f1_score(y_test, pred)))\n",
    "print(\"Confusion Matrix of test set\")\n",
    "df_cm = pd.DataFrame(confusion_matrix(y_test, pred), range(2),range(2))\n",
    "sns.set(font_scale=1.4)\n",
    "# Concept of heat map on confusion matrix and accuracy scores taken from : https://github.com/cyanamous/Amazon-Food-Reviews-Analysis-and-Modelling/blob/master/2%20Amazon%20Food%20Reviews%20-%20KNN%20.ipynb\n",
    "sns.heatmap(df_cm, annot=True,annot_kws={\"size\": 16}, fmt='g')\n"
   ]
  },
  {
   "cell_type": "code",
   "execution_count": 79,
   "metadata": {},
   "outputs": [
    {
     "name": "stderr",
     "output_type": "stream",
     "text": [
      "No handles with labels found to put in legend.\n"
     ]
    },
    {
     "data": {
      "image/png": "[encoded data removed]",
      "text/plain": [
       "<Figure size 432x288 with 1 Axes>"
      ]
     },
     "metadata": {},
     "output_type": "display_data"
    }
   ],
   "source": [
    "# Plot the ROC curve\n",
    "plt.title('ROC curve for K-NN (Brute technique) for BoW')\n",
    "plt.plot([0, 1], [0, 1], linestyle='--', lw=2, color='r')\n",
    "plt.plot(fpr, tpr, color='b')\n",
    "# plt.plot(neighbors, cv_scores, label='Train accuracy')\n",
    "plt.legend()\n",
    "plt.xlabel('FPR')\n",
    "plt.ylabel('TPR')\n",
    "plt.show()"
   ]
  },
  {
   "cell_type": "markdown",
   "metadata": {},
   "source": [
    "#### Observation:\n",
    "* The model is predicting minority class more accurately than the TFIDF implimentation but less than BoW implementation\n",
    "* The ROC curve is no so good but better than TFIDF implimentation"
   ]
  },
  {
   "cell_type": "code",
   "execution_count": 80,
   "metadata": {},
   "outputs": [],
   "source": [
    "# Releasing Memory\n",
    "del sent_vectors_train\n",
    "del sent_vectors_test\n",
    "plt.close()"
   ]
  },
  {
   "cell_type": "markdown",
   "metadata": {},
   "source": [
    "### [5.1.4] Applying KNN brute force on TFIDF W2V,<font color='red'> SET 4</font>"
   ]
  },
  {
   "cell_type": "markdown",
   "metadata": {},
   "source": [
    "#### Applying KNN\n",
    "* Taking a range of odd neighbours as this is a binary classification.\n",
    "* We have used 10 fold cross validation\n",
    "* The optimum 'K' is measured from the maximum value of AUC"
   ]
  },
  {
   "cell_type": "code",
   "execution_count": 82,
   "metadata": {},
   "outputs": [
    {
     "name": "stderr",
     "output_type": "stream",
     "text": [
      "100%|██████████████████████████████████████████████████████████████████████████████████| 25/25 [01:15<00:00,  3.07s/it]\n"
     ]
    },
    {
     "name": "stdout",
     "output_type": "stream",
     "text": [
      "The optimal 'K' value is: 49\n",
      "Total time taken: 75.98028993606567\n"
     ]
    }
   ],
   "source": [
    "s_time = time.time()\n",
    "neighbors = list(range(1,50,2)) # Creating odd number of neighbors to get the optimal k\n",
    "mean_fpr = np.linspace(0, 1, 100)\n",
    "area_under_roc = []\n",
    "tprs = []\n",
    "for k in tqdm(neighbors):\n",
    "    knn = KNeighborsClassifier(n_neighbors=k, weights='distance', algorithm='brute')\n",
    "    cv = StratifiedKFold(n_splits=10)\n",
    "    for train, test in cv.split(tfidf_sent_vectors_train, y_train):\n",
    "        proba = knn.fit(np.array(tfidf_sent_vectors_train)[train], y_train[train]).predict_proba(np.array(tfidf_sent_vectors_train)[test])\n",
    "        fpr, tpr, thresholds = roc_curve(y_train[test], proba[:, 1])\n",
    "        tprs.append(interp(mean_fpr, fpr, tpr)) # Calculation taken from sklearn auc documentation\n",
    "    mean_tpr = np.mean(tprs, axis=0)\n",
    "    mean_auc = auc(mean_fpr, mean_tpr)\n",
    "    area_under_roc.append(mean_auc)\n",
    "\n",
    "optimal_k = neighbors[area_under_roc.index(max(area_under_roc))]\n",
    "e_time = time.time()\n",
    "print(\"The optimal 'K' value is: {}\".format(optimal_k))\n",
    "print(\"Total time taken: {}\".format(e_time-s_time))"
   ]
  },
  {
   "cell_type": "code",
   "execution_count": 83,
   "metadata": {},
   "outputs": [
    {
     "data": {
      "text/plain": [
       "0.5973152623812986"
      ]
     },
     "execution_count": 83,
     "metadata": {},
     "output_type": "execute_result"
    }
   ],
   "source": [
    "max(area_under_roc)"
   ]
  },
  {
   "cell_type": "code",
   "execution_count": 84,
   "metadata": {},
   "outputs": [
    {
     "data": {
      "image/png": "[encoded data removed]",
      "text/plain": [
       "<Figure size 432x288 with 1 Axes>"
      ]
     },
     "metadata": {},
     "output_type": "display_data"
    }
   ],
   "source": [
    "# Plot the AUC vs K curve\n",
    "plt.title('AUC vs K curve for K-NN (Brute technique) for BoW')\n",
    "plt.plot(neighbors,area_under_roc, label='Train AUC')\n",
    "# plt.plot(neighbors, cv_scores, label='Train accuracy')\n",
    "plt.legend()\n",
    "plt.xlabel('Number of neighbors')\n",
    "plt.ylabel('AUC')\n",
    "plt.show()"
   ]
  },
  {
   "cell_type": "code",
   "execution_count": 85,
   "metadata": {},
   "outputs": [
    {
     "name": "stdout",
     "output_type": "stream",
     "text": [
      "The optimal 'K' value is: 49\n",
      "Accuracy on test set: 81.704%\n",
      "Precision on test set: 0.823\n",
      "Recall on test set: 0.989\n",
      "F1-Score on test set: 0.899\n",
      "Confusion Matrix of test set\n"
     ]
    },
    {
     "data": {
      "text/plain": [
       "<matplotlib.axes._subplots.AxesSubplot at 0x1774d77b550>"
      ]
     },
     "execution_count": 85,
     "metadata": {},
     "output_type": "execute_result"
    },
    {
     "data": {
      "image/png": "[encoded data removed]",
      "text/plain": [
       "<Figure size 432x288 with 2 Axes>"
      ]
     },
     "metadata": {},
     "output_type": "display_data"
    }
   ],
   "source": [
    "# ============================== KNN with k = optimal_k ===============================================\n",
    "print(\"The optimal 'K' value is: {}\".format(optimal_k))\n",
    "knn_optimal = KNeighborsClassifier(n_neighbors=11, weights='distance', algorithm='brute')\n",
    "\n",
    "# fitting the model\n",
    "knn_optimal.fit(tfidf_sent_vectors_train, y_train)\n",
    "\n",
    "# predict the response\n",
    "pred_proba = knn_optimal.predict_proba(tfidf_sent_vectors_test)\n",
    "pred = knn_optimal.predict(tfidf_sent_vectors_test)\n",
    "\n",
    "fpr, tpr, thresholds = roc_curve(y_test, pred_proba[:, 1])\n",
    "# evaluate accuracy\n",
    "print(\"Accuracy on test set: %0.3f%%\"%(accuracy_score(y_test, pred)*100))\n",
    "print(\"Precision on test set: %0.3f\"%(precision_score(y_test, pred)))\n",
    "print(\"Recall on test set: %0.3f\"%(recall_score(y_test, pred)))\n",
    "print(\"F1-Score on test set: %0.3f\"%(f1_score(y_test, pred)))\n",
    "print(\"Confusion Matrix of test set\")\n",
    "df_cm = pd.DataFrame(confusion_matrix(y_test, pred), range(2),range(2))\n",
    "sns.set(font_scale=1.4)\n",
    "# Concept of heat map on confusion matrix and accuracy scores taken from : https://github.com/cyanamous/Amazon-Food-Reviews-Analysis-and-Modelling/blob/master/2%20Amazon%20Food%20Reviews%20-%20KNN%20.ipynb\n",
    "sns.heatmap(df_cm, annot=True,annot_kws={\"size\": 16}, fmt='g')\n"
   ]
  },
  {
   "cell_type": "code",
   "execution_count": 86,
   "metadata": {},
   "outputs": [
    {
     "name": "stderr",
     "output_type": "stream",
     "text": [
      "No handles with labels found to put in legend.\n"
     ]
    },
    {
     "data": {
      "image/png": "[encoded data removed]",
      "text/plain": [
       "<Figure size 432x288 with 1 Axes>"
      ]
     },
     "metadata": {},
     "output_type": "display_data"
    }
   ],
   "source": [
    "# Plot the ROC curve\n",
    "plt.title('ROC curve for K-NN (Brute technique) for BoW')\n",
    "plt.plot([0, 1], [0, 1], linestyle='--', lw=2, color='r')\n",
    "plt.plot(fpr, tpr, color='b')\n",
    "# plt.plot(neighbors, cv_scores, label='Train accuracy')\n",
    "plt.legend()\n",
    "plt.xlabel('FPR')\n",
    "plt.ylabel('TPR')\n",
    "plt.show()"
   ]
  },
  {
   "cell_type": "markdown",
   "metadata": {},
   "source": [
    "#### Observation:\n",
    "* The model is predicting minority class more accurately than the TFIDF implimentation but less than BoW and avg-W2vec implementation\n",
    "* The ROC curve is no so good but better than TFIDF implimentation"
   ]
  },
  {
   "cell_type": "code",
   "execution_count": 87,
   "metadata": {},
   "outputs": [],
   "source": [
    "# Releasing Memory\n",
    "del tfidf_sent_vectors_train\n",
    "del tfidf_sent_vectors_test\n",
    "plt.close()"
   ]
  },
  {
   "cell_type": "markdown",
   "metadata": {},
   "source": [
    "## [5.2] Applying KNN kd-tree"
   ]
  },
  {
   "cell_type": "markdown",
   "metadata": {},
   "source": [
    "### Unpickle the files before processing"
   ]
  },
  {
   "cell_type": "code",
   "execution_count": 129,
   "metadata": {},
   "outputs": [],
   "source": [
    "import pickle\n",
    "\n",
    "bow_train = 'bow_train.pkl'\n",
    "bow_test = 'bow_test.pkl'\n",
    "tfidf_train = 'tfidf_train.pkl'\n",
    "tfidf_test = 'tfidf_test.pkl'\n",
    "avgw2v_train = 'avgw2v_train.pkl'\n",
    "avgw2v_test = 'avgw2v_test.pkl'\n",
    "tfidfw2v_train = 'tfidfw2v_train.pkl'\n",
    "tfidfw2v_test = 'tfidfw2v_test.pkl'\n",
    "\n",
    "obj1 = open(bow_train,'rb')\n",
    "final_counts_train = pickle.load(obj1)\n",
    "obj1.close()\n",
    "\n",
    "obj2 = open(bow_test,'rb')\n",
    "final_counts_test = pickle.load(obj2)\n",
    "obj2.close()\n",
    "\n",
    "obj3 = open(tfidf_train,'rb')\n",
    "final_tf_idf_train = pickle.load(obj3)\n",
    "obj3.close()\n",
    "\n",
    "obj4 = open(tfidf_test,'rb')\n",
    "final_tf_idf_test = pickle.load(obj4)\n",
    "obj4.close()\n",
    "\n",
    "obj5 = open(avgw2v_train,'rb')\n",
    "sent_vectors_train = pickle.load(obj5)\n",
    "obj5.close()\n",
    "\n",
    "obj6 = open(avgw2v_test,'rb')\n",
    "sent_vectors_test = pickle.load(obj6)\n",
    "obj6.close()\n",
    "\n",
    "obj7 = open(tfidfw2v_train,'rb')\n",
    "tfidf_sent_vectors_train = pickle.load(obj7)\n",
    "obj7.close()\n",
    "\n",
    "obj8 = open(tfidfw2v_test,'rb')\n",
    "tfidf_sent_vectors_test = pickle.load(obj8)\n",
    "obj8.close()"
   ]
  },
  {
   "cell_type": "markdown",
   "metadata": {},
   "source": [
    "### [5.2.1] Applying KNN kd-tree on BOW,<font color='red'> SET 5</font>"
   ]
  },
  {
   "cell_type": "code",
   "execution_count": 130,
   "metadata": {},
   "outputs": [],
   "source": [
    "# Sparse to Dense matrix\n",
    "final_counts_train = final_counts_train.toarray()\n",
    "final_counts_test = final_counts_test.toarray()"
   ]
  },
  {
   "cell_type": "markdown",
   "metadata": {},
   "source": [
    "Applying <b>PCA</b> to reduce the dimensionality for the ease of purpose"
   ]
  },
  {
   "cell_type": "code",
   "execution_count": 131,
   "metadata": {},
   "outputs": [
    {
     "name": "stdout",
     "output_type": "stream",
     "text": [
      "Train Data shape:  (7651, 500)\n",
      "Test Data shape:  (1913, 500)\n"
     ]
    }
   ],
   "source": [
    "#*************** Reducing dimensions drastically due to memory issue\n",
    "# Applying PCA to train so that we dont have to work with high dimensions\n",
    "pca = decomposition.PCA(n_components=500)\n",
    "final_counts_train = pca.fit_transform(final_counts_train)\n",
    "final_counts_test = pca.transform(final_counts_test)\n",
    "print(\"Train Data shape: \",final_counts_train.shape)\n",
    "print(\"Test Data shape: \",final_counts_test.shape)"
   ]
  },
  {
   "cell_type": "code",
   "execution_count": 132,
   "metadata": {},
   "outputs": [
    {
     "name": "stdout",
     "output_type": "stream",
     "text": [
      "After Dimension reduction we retain 75.0% of information.\n"
     ]
    }
   ],
   "source": [
    "# Explaned variance\n",
    "information = pca.explained_variance_ratio_.cumsum()\n",
    "print(\"After Dimension reduction we retain {}% of information.\".format(round(information[-1] * 100),2))"
   ]
  },
  {
   "cell_type": "markdown",
   "metadata": {},
   "source": [
    "#### Applying KNN\n",
    "* Taking a range of odd neighbours as this is a binary classification.\n",
    "* We have used 10 fold cross validation\n",
    "* The optimum 'K' is measured from the maximum value of AUC"
   ]
  },
  {
   "cell_type": "code",
   "execution_count": 133,
   "metadata": {},
   "outputs": [
    {
     "name": "stderr",
     "output_type": "stream",
     "text": [
      "100%|██████████████████████████████████████████████████████████████████████████████████| 25/25 [29:06<00:00, 70.04s/it]\n"
     ]
    },
    {
     "name": "stdout",
     "output_type": "stream",
     "text": [
      "The optimal 'K' value is: 49\n",
      "Total time taken: 1746.7794513702393\n"
     ]
    }
   ],
   "source": [
    "s_time = time.time()\n",
    "neighbors = list(range(1,50,2)) # Creating odd number of neighbors to get the optimal k\n",
    "mean_fpr = np.linspace(0, 1, 100)\n",
    "area_under_roc = []\n",
    "tprs = []\n",
    "for k in tqdm(neighbors):\n",
    "    knn = KNeighborsClassifier(n_neighbors=k, weights='distance', algorithm='kd_tree')\n",
    "    cv = StratifiedKFold(n_splits=10)\n",
    "    for train, test in cv.split(final_counts_train, y_train):\n",
    "        proba = knn.fit(final_counts_train[train], y_train[train]).predict_proba(final_counts_train[test])\n",
    "        fpr, tpr, thresholds = roc_curve(y_train[test], proba[:, 1])\n",
    "        tprs.append(interp(mean_fpr, fpr, tpr)) # Calculation taken from sklearn auc documentation\n",
    "    mean_tpr = np.mean(tprs, axis=0)\n",
    "    mean_auc = auc(mean_fpr, mean_tpr)\n",
    "    area_under_roc.append(mean_auc)\n",
    "\n",
    "optimal_k = neighbors[area_under_roc.index(max(area_under_roc))]\n",
    "e_time = time.time()\n",
    "print(\"The optimal 'K' value is: {}\".format(optimal_k))\n",
    "print(\"Total time taken: {}\".format(e_time-s_time))"
   ]
  },
  {
   "cell_type": "code",
   "execution_count": 134,
   "metadata": {},
   "outputs": [
    {
     "data": {
      "image/png": "[encoded data removed]",
      "text/plain": [
       "<Figure size 432x288 with 1 Axes>"
      ]
     },
     "metadata": {},
     "output_type": "display_data"
    }
   ],
   "source": [
    "# Plot the AUC vs K curve\n",
    "plt.title('AUC vs K curve for K-NN (Brute technique) for BoW')\n",
    "plt.plot(neighbors,area_under_roc, label='Train AUC')\n",
    "# plt.plot(neighbors, cv_scores, label='Train accuracy')\n",
    "plt.legend()\n",
    "plt.xlabel('Number of neighbors')\n",
    "plt.ylabel('AUC')\n",
    "plt.show()"
   ]
  },
  {
   "cell_type": "code",
   "execution_count": 135,
   "metadata": {},
   "outputs": [
    {
     "name": "stdout",
     "output_type": "stream",
     "text": [
      "The optimal 'K' value is: 49\n",
      "Accuracy on test set: 82.122%\n",
      "Precision on test set: 0.838\n",
      "Recall on test set: 0.970\n",
      "F1-Score on test set: 0.899\n",
      "Confusion Matrix of test set\n"
     ]
    },
    {
     "data": {
      "text/plain": [
       "<matplotlib.axes._subplots.AxesSubplot at 0x17748a966a0>"
      ]
     },
     "execution_count": 135,
     "metadata": {},
     "output_type": "execute_result"
    },
    {
     "data": {
      "image/png": "[encoded data removed]",
      "text/plain": [
       "<Figure size 432x288 with 2 Axes>"
      ]
     },
     "metadata": {},
     "output_type": "display_data"
    }
   ],
   "source": [
    "# ============================== KNN with k = optimal_k ===============================================\n",
    "print(\"The optimal 'K' value is: {}\".format(optimal_k))\n",
    "knn_optimal = KNeighborsClassifier(n_neighbors=11, weights='distance', algorithm='kd_tree')\n",
    "\n",
    "# fitting the model\n",
    "knn_optimal.fit(final_counts_train, y_train)\n",
    "\n",
    "# predict the response\n",
    "pred_proba = knn_optimal.predict_proba(final_counts_test)\n",
    "pred = knn_optimal.predict(final_counts_test)\n",
    "\n",
    "fpr, tpr, thresholds = roc_curve(y_test, pred_proba[:, 1])\n",
    "# evaluate accuracy\n",
    "print(\"Accuracy on test set: %0.3f%%\"%(accuracy_score(y_test, pred)*100))\n",
    "print(\"Precision on test set: %0.3f\"%(precision_score(y_test, pred)))\n",
    "print(\"Recall on test set: %0.3f\"%(recall_score(y_test, pred)))\n",
    "print(\"F1-Score on test set: %0.3f\"%(f1_score(y_test, pred)))\n",
    "print(\"Confusion Matrix of test set\")\n",
    "df_cm = pd.DataFrame(confusion_matrix(y_test, pred), range(2),range(2))\n",
    "sns.set(font_scale=1.4)\n",
    "# Concept of heat map on confusion matrix and accuracy scores taken from : https://github.com/cyanamous/Amazon-Food-Reviews-Analysis-and-Modelling/blob/master/2%20Amazon%20Food%20Reviews%20-%20KNN%20.ipynb\n",
    "sns.heatmap(df_cm, annot=True,annot_kws={\"size\": 16}, fmt='g')\n"
   ]
  },
  {
   "cell_type": "code",
   "execution_count": 136,
   "metadata": {},
   "outputs": [
    {
     "name": "stderr",
     "output_type": "stream",
     "text": [
      "No handles with labels found to put in legend.\n"
     ]
    },
    {
     "data": {
      "image/png": "[encoded data removed]",
      "text/plain": [
       "<Figure size 432x288 with 1 Axes>"
      ]
     },
     "metadata": {},
     "output_type": "display_data"
    }
   ],
   "source": [
    "# Plot the ROC curve\n",
    "plt.title('ROC curve for K-NN (Brute technique) for BoW')\n",
    "plt.plot([0, 1], [0, 1], linestyle='--', lw=2, color='r')\n",
    "plt.plot(fpr, tpr, color='b')\n",
    "# plt.plot(neighbors, cv_scores, label='Train accuracy')\n",
    "plt.legend()\n",
    "plt.xlabel('FPR')\n",
    "plt.ylabel('TPR')\n",
    "plt.show()"
   ]
  },
  {
   "cell_type": "markdown",
   "metadata": {},
   "source": [
    "#### Observation:\n",
    "* The model is predicting minority class less accurately might be for imbalanced data, only 50 points are predicted as 0 out of 344 points which is almost same as the BoW implimentation for Bruit version"
   ]
  },
  {
   "cell_type": "code",
   "execution_count": 137,
   "metadata": {},
   "outputs": [],
   "source": [
    "# Deleteing BoW vectors to clear memory\n",
    "del final_counts_train\n",
    "del final_counts_test"
   ]
  },
  {
   "cell_type": "code",
   "execution_count": 138,
   "metadata": {},
   "outputs": [],
   "source": [
    "plt.close()"
   ]
  },
  {
   "cell_type": "markdown",
   "metadata": {},
   "source": [
    "### [5.2.2] Applying KNN kd-tree on TFIDF,<font color='red'> SET 6</font>"
   ]
  },
  {
   "cell_type": "code",
   "execution_count": 139,
   "metadata": {},
   "outputs": [],
   "source": [
    "# Sparse to Dense matrix\n",
    "final_tf_idf_train = final_tf_idf_train.toarray()\n",
    "final_tf_idf_test = final_tf_idf_test.toarray()"
   ]
  },
  {
   "cell_type": "markdown",
   "metadata": {},
   "source": [
    "Applying <b>PCA</b> to reduce the dimensionality for the ease of purpose"
   ]
  },
  {
   "cell_type": "code",
   "execution_count": 140,
   "metadata": {},
   "outputs": [
    {
     "name": "stdout",
     "output_type": "stream",
     "text": [
      "Train Data shape:  (7651, 500)\n",
      "Test Data shape:  (1913, 500)\n"
     ]
    }
   ],
   "source": [
    "#*************** Reducing dimensions drastically due to memory issue\n",
    "# Applying PCA to train so that we dont have to work with high dimensions\n",
    "pca = decomposition.PCA(n_components=500)\n",
    "final_tf_idf_train = pca.fit_transform(final_tf_idf_train)\n",
    "final_tf_idf_test = pca.transform(final_tf_idf_test)\n",
    "print(\"Train Data shape: \",final_tf_idf_train.shape)\n",
    "print(\"Test Data shape: \",final_tf_idf_test.shape)"
   ]
  },
  {
   "cell_type": "code",
   "execution_count": 141,
   "metadata": {},
   "outputs": [
    {
     "name": "stdout",
     "output_type": "stream",
     "text": [
      "After Dimension reduction we retain 50.0% of information.\n"
     ]
    }
   ],
   "source": [
    "# Explaned variance\n",
    "information = pca.explained_variance_ratio_.cumsum()\n",
    "print(\"After Dimension reduction we retain {}% of information.\".format(round(information[-1] * 100),2))"
   ]
  },
  {
   "cell_type": "markdown",
   "metadata": {},
   "source": [
    "#### Applying KNN\n",
    "* Taking a range of odd neighbours as this is a binary classification.\n",
    "* We have used 10 fold cross validation\n",
    "* The optimum 'K' is measured from the maximum value of AUC"
   ]
  },
  {
   "cell_type": "code",
   "execution_count": 142,
   "metadata": {},
   "outputs": [
    {
     "name": "stderr",
     "output_type": "stream",
     "text": [
      "100%|██████████████████████████████████████████████████████████████████████████████████| 25/25 [17:28<00:00, 41.79s/it]\n"
     ]
    },
    {
     "name": "stdout",
     "output_type": "stream",
     "text": [
      "The optimal 'K' value is: 49\n",
      "Total time taken: 1048.433676481247\n"
     ]
    }
   ],
   "source": [
    "s_time = time.time()\n",
    "neighbors = list(range(1,50,2)) # Creating odd number of neighbors to get the optimal k\n",
    "mean_fpr = np.linspace(0, 1, 100)\n",
    "area_under_roc = []\n",
    "tprs = []\n",
    "for k in tqdm(neighbors):\n",
    "    knn = KNeighborsClassifier(n_neighbors=k, weights='distance', algorithm='kd_tree')\n",
    "    cv = StratifiedKFold(n_splits=10)\n",
    "    for train, test in cv.split(final_tf_idf_train, y_train):\n",
    "        proba = knn.fit(final_tf_idf_train[train], y_train[train]).predict_proba(final_tf_idf_train[test])\n",
    "        fpr, tpr, thresholds = roc_curve(y_train[test], proba[:, 1])\n",
    "        tprs.append(interp(mean_fpr, fpr, tpr)) # Calculation taken from sklearn auc documentation\n",
    "    mean_tpr = np.mean(tprs, axis=0)\n",
    "    mean_auc = auc(mean_fpr, mean_tpr)\n",
    "    area_under_roc.append(mean_auc)\n",
    "\n",
    "optimal_k = neighbors[area_under_roc.index(max(area_under_roc))]\n",
    "e_time = time.time()\n",
    "print(\"The optimal 'K' value is: {}\".format(optimal_k))\n",
    "print(\"Total time taken: {}\".format(e_time-s_time))"
   ]
  },
  {
   "cell_type": "code",
   "execution_count": 143,
   "metadata": {},
   "outputs": [
    {
     "data": {
      "text/plain": [
       "0.6614024998018956"
      ]
     },
     "execution_count": 143,
     "metadata": {},
     "output_type": "execute_result"
    }
   ],
   "source": [
    "max(area_under_roc)"
   ]
  },
  {
   "cell_type": "code",
   "execution_count": 144,
   "metadata": {},
   "outputs": [
    {
     "data": {
      "image/png": "[encoded data removed]",
      "text/plain": [
       "<Figure size 432x288 with 1 Axes>"
      ]
     },
     "metadata": {},
     "output_type": "display_data"
    }
   ],
   "source": [
    "# Plot the AUC vs K curve\n",
    "plt.title('AUC vs K curve for K-NN (Brute technique) for BoW')\n",
    "plt.plot(neighbors,area_under_roc, label='Train AUC')\n",
    "# plt.plot(neighbors, cv_scores, label='Train accuracy')\n",
    "plt.legend()\n",
    "plt.xlabel('Number of neighbors')\n",
    "plt.ylabel('AUC')\n",
    "plt.show()"
   ]
  },
  {
   "cell_type": "code",
   "execution_count": 145,
   "metadata": {},
   "outputs": [
    {
     "name": "stdout",
     "output_type": "stream",
     "text": [
      "The optimal 'K' value is: 49\n",
      "Accuracy on test set: 82.018%\n",
      "Precision on test set: 0.821\n",
      "Recall on test set: 0.999\n",
      "F1-Score on test set: 0.901\n",
      "Confusion Matrix of test set\n"
     ]
    },
    {
     "data": {
      "text/plain": [
       "<matplotlib.axes._subplots.AxesSubplot at 0x1774d9a7e80>"
      ]
     },
     "execution_count": 145,
     "metadata": {},
     "output_type": "execute_result"
    },
    {
     "data": {
      "image/png": "[encoded data removed]",
      "text/plain": [
       "<Figure size 432x288 with 2 Axes>"
      ]
     },
     "metadata": {},
     "output_type": "display_data"
    }
   ],
   "source": [
    "# ============================== KNN with k = optimal_k ===============================================\n",
    "print(\"The optimal 'K' value is: {}\".format(optimal_k))\n",
    "knn_optimal = KNeighborsClassifier(n_neighbors=11, weights='distance', algorithm='kd_tree')\n",
    "\n",
    "# fitting the model\n",
    "knn_optimal.fit(final_tf_idf_train, y_train)\n",
    "\n",
    "# predict the response\n",
    "pred_proba = knn_optimal.predict_proba(final_tf_idf_test)\n",
    "pred = knn_optimal.predict(final_tf_idf_test)\n",
    "\n",
    "fpr, tpr, thresholds = roc_curve(y_test, pred_proba[:, 1])\n",
    "# evaluate accuracy\n",
    "print(\"Accuracy on test set: %0.3f%%\"%(accuracy_score(y_test, pred)*100))\n",
    "print(\"Precision on test set: %0.3f\"%(precision_score(y_test, pred)))\n",
    "print(\"Recall on test set: %0.3f\"%(recall_score(y_test, pred)))\n",
    "print(\"F1-Score on test set: %0.3f\"%(f1_score(y_test, pred)))\n",
    "print(\"Confusion Matrix of test set\")\n",
    "df_cm = pd.DataFrame(confusion_matrix(y_test, pred), range(2),range(2))\n",
    "sns.set(font_scale=1.4)\n",
    "# Concept of heat map on confusion matrix and accuracy scores taken from : https://github.com/cyanamous/Amazon-Food-Reviews-Analysis-and-Modelling/blob/master/2%20Amazon%20Food%20Reviews%20-%20KNN%20.ipynb\n",
    "sns.heatmap(df_cm, annot=True,annot_kws={\"size\": 16}, fmt='g')\n"
   ]
  },
  {
   "cell_type": "code",
   "execution_count": 146,
   "metadata": {},
   "outputs": [
    {
     "name": "stderr",
     "output_type": "stream",
     "text": [
      "No handles with labels found to put in legend.\n"
     ]
    },
    {
     "data": {
      "image/png": "[encoded data removed]",
      "text/plain": [
       "<Figure size 432x288 with 1 Axes>"
      ]
     },
     "metadata": {},
     "output_type": "display_data"
    }
   ],
   "source": [
    "# Plot the ROC curve\n",
    "plt.title('ROC curve for K-NN (Brute technique) for BoW')\n",
    "plt.plot([0, 1], [0, 1], linestyle='--', lw=2, color='r')\n",
    "plt.plot(fpr, tpr, color='b')\n",
    "# plt.plot(neighbors, cv_scores, label='Train accuracy')\n",
    "plt.legend()\n",
    "plt.xlabel('FPR')\n",
    "plt.ylabel('TPR')\n",
    "plt.show()"
   ]
  },
  {
   "cell_type": "markdown",
   "metadata": {},
   "source": [
    "#### Observation:\n",
    "* The model is predicting minority class less accurately than the BoW implimentation.\n",
    "* This could be because of imbalanced data and due to heavy information loss after using PCA\n",
    "* The ROC curve is also very poor\n",
    "* The Area Under ROC is is also very less only ~0.65"
   ]
  },
  {
   "cell_type": "code",
   "execution_count": 147,
   "metadata": {},
   "outputs": [],
   "source": [
    "# Releasing memory\n",
    "del final_tf_idf_train\n",
    "del final_tf_idf_test\n",
    "plt.close()"
   ]
  },
  {
   "cell_type": "markdown",
   "metadata": {},
   "source": [
    "### [5.2.3] Applying KNN kd-tree on AVG W2V,<font color='red'> SET 7</font>"
   ]
  },
  {
   "cell_type": "markdown",
   "metadata": {},
   "source": [
    "#### Applying KNN\n",
    "* Taking a range of odd neighbours as this is a binary classification.\n",
    "* We have used 10 fold cross validation\n",
    "* The optimum 'K' is measured from the maximum value of AUC"
   ]
  },
  {
   "cell_type": "code",
   "execution_count": 148,
   "metadata": {},
   "outputs": [
    {
     "name": "stderr",
     "output_type": "stream",
     "text": [
      "100%|██████████████████████████████████████████████████████████████████████████████████| 25/25 [08:18<00:00, 22.88s/it]\n"
     ]
    },
    {
     "name": "stdout",
     "output_type": "stream",
     "text": [
      "The optimal 'K' value is: 49\n",
      "Total time taken: 498.9596140384674\n"
     ]
    }
   ],
   "source": [
    "s_time = time.time()\n",
    "neighbors = list(range(1,50,2)) # Creating odd number of neighbors to get the optimal k\n",
    "mean_fpr = np.linspace(0, 1, 100)\n",
    "area_under_roc = []\n",
    "tprs = []\n",
    "for k in tqdm(neighbors):\n",
    "    knn = KNeighborsClassifier(n_neighbors=k, weights='distance', algorithm='kd_tree')\n",
    "    cv = StratifiedKFold(n_splits=10)\n",
    "    for train, test in cv.split(sent_vectors_train, y_train):\n",
    "        proba = knn.fit(np.array(sent_vectors_train)[train], y_train[train]).predict_proba(np.array(sent_vectors_train)[test])\n",
    "        fpr, tpr, thresholds = roc_curve(y_train[test], proba[:, 1])\n",
    "        tprs.append(interp(mean_fpr, fpr, tpr)) # Calculation taken from sklearn auc documentation\n",
    "    mean_tpr = np.mean(tprs, axis=0)\n",
    "    mean_auc = auc(mean_fpr, mean_tpr)\n",
    "    area_under_roc.append(mean_auc)\n",
    "\n",
    "optimal_k = neighbors[area_under_roc.index(max(area_under_roc))]\n",
    "e_time = time.time()\n",
    "print(\"The optimal 'K' value is: {}\".format(optimal_k))\n",
    "print(\"Total time taken: {}\".format(e_time-s_time))"
   ]
  },
  {
   "cell_type": "code",
   "execution_count": 149,
   "metadata": {},
   "outputs": [
    {
     "data": {
      "text/plain": [
       "0.6268779693836735"
      ]
     },
     "execution_count": 149,
     "metadata": {},
     "output_type": "execute_result"
    }
   ],
   "source": [
    "max(area_under_roc)"
   ]
  },
  {
   "cell_type": "code",
   "execution_count": 150,
   "metadata": {},
   "outputs": [
    {
     "data": {
      "image/png": "[encoded data removed]",
      "text/plain": [
       "<Figure size 432x288 with 1 Axes>"
      ]
     },
     "metadata": {},
     "output_type": "display_data"
    }
   ],
   "source": [
    "# Plot the AUC vs K curve\n",
    "plt.title('AUC vs K curve for K-NN (Brute technique) for BoW')\n",
    "plt.plot(neighbors,area_under_roc, label='Train AUC')\n",
    "# plt.plot(neighbors, cv_scores, label='Train accuracy')\n",
    "plt.legend()\n",
    "plt.xlabel('Number of neighbors')\n",
    "plt.ylabel('AUC')\n",
    "plt.show()"
   ]
  },
  {
   "cell_type": "code",
   "execution_count": 151,
   "metadata": {},
   "outputs": [
    {
     "name": "stdout",
     "output_type": "stream",
     "text": [
      "The optimal 'K' value is: 49\n",
      "Accuracy on test set: 82.070%\n",
      "Precision on test set: 0.825\n",
      "Recall on test set: 0.992\n",
      "F1-Score on test set: 0.901\n",
      "Confusion Matrix of test set\n"
     ]
    },
    {
     "data": {
      "text/plain": [
       "<matplotlib.axes._subplots.AxesSubplot at 0x17707deccf8>"
      ]
     },
     "execution_count": 151,
     "metadata": {},
     "output_type": "execute_result"
    },
    {
     "data": {
      "image/png": "[encoded data removed]",
      "text/plain": [
       "<Figure size 432x288 with 2 Axes>"
      ]
     },
     "metadata": {},
     "output_type": "display_data"
    }
   ],
   "source": [
    "# ============================== KNN with k = optimal_k ===============================================\n",
    "print(\"The optimal 'K' value is: {}\".format(optimal_k))\n",
    "knn_optimal = KNeighborsClassifier(n_neighbors=11, weights='distance', algorithm='kd_tree')\n",
    "\n",
    "# fitting the model\n",
    "knn_optimal.fit(sent_vectors_train, y_train)\n",
    "\n",
    "# predict the response\n",
    "pred_proba = knn_optimal.predict_proba(sent_vectors_test)\n",
    "pred = knn_optimal.predict(sent_vectors_test)\n",
    "\n",
    "fpr, tpr, thresholds = roc_curve(y_test, pred_proba[:, 1])\n",
    "# evaluate accuracy\n",
    "print(\"Accuracy on test set: %0.3f%%\"%(accuracy_score(y_test, pred)*100))\n",
    "print(\"Precision on test set: %0.3f\"%(precision_score(y_test, pred)))\n",
    "print(\"Recall on test set: %0.3f\"%(recall_score(y_test, pred)))\n",
    "print(\"F1-Score on test set: %0.3f\"%(f1_score(y_test, pred)))\n",
    "print(\"Confusion Matrix of test set\")\n",
    "df_cm = pd.DataFrame(confusion_matrix(y_test, pred), range(2),range(2))\n",
    "sns.set(font_scale=1.4)\n",
    "# Concept of heat map on confusion matrix and accuracy scores taken from : https://github.com/cyanamous/Amazon-Food-Reviews-Analysis-and-Modelling/blob/master/2%20Amazon%20Food%20Reviews%20-%20KNN%20.ipynb\n",
    "sns.heatmap(df_cm, annot=True,annot_kws={\"size\": 16}, fmt='g')\n"
   ]
  },
  {
   "cell_type": "code",
   "execution_count": 152,
   "metadata": {},
   "outputs": [
    {
     "name": "stderr",
     "output_type": "stream",
     "text": [
      "No handles with labels found to put in legend.\n"
     ]
    },
    {
     "data": {
      "image/png": "[encoded data removed]",
      "text/plain": [
       "<Figure size 432x288 with 1 Axes>"
      ]
     },
     "metadata": {},
     "output_type": "display_data"
    }
   ],
   "source": [
    "# Plot the ROC curve\n",
    "plt.title('ROC curve for K-NN (Brute technique) for BoW')\n",
    "plt.plot([0, 1], [0, 1], linestyle='--', lw=2, color='r')\n",
    "plt.plot(fpr, tpr, color='b')\n",
    "# plt.plot(neighbors, cv_scores, label='Train accuracy')\n",
    "plt.legend()\n",
    "plt.xlabel('FPR')\n",
    "plt.ylabel('TPR')\n",
    "plt.show()"
   ]
  },
  {
   "cell_type": "markdown",
   "metadata": {},
   "source": [
    "#### Observation:\n",
    "* The model is predicting minority class more accurately than the TFIDF implimentation but less than BoW implementation\n",
    "* The ROC curve is no so good but better than TFIDF implimentation"
   ]
  },
  {
   "cell_type": "code",
   "execution_count": 153,
   "metadata": {},
   "outputs": [],
   "source": [
    "# Releasing Memory\n",
    "del sent_vectors_train\n",
    "del sent_vectors_test\n",
    "plt.close()"
   ]
  },
  {
   "cell_type": "markdown",
   "metadata": {},
   "source": [
    "### [5.2.4] Applying KNN kd-tree on TFIDF W2V,<font color='red'> SET 8</font>"
   ]
  },
  {
   "cell_type": "markdown",
   "metadata": {},
   "source": [
    "#### Applying KNN\n",
    "* Taking a range of odd neighbours as this is a binary classification.\n",
    "* We have used 10 fold cross validation\n",
    "* The optimum 'K' is measured from the maximum value of AUC"
   ]
  },
  {
   "cell_type": "code",
   "execution_count": 154,
   "metadata": {},
   "outputs": [
    {
     "name": "stderr",
     "output_type": "stream",
     "text": [
      "100%|██████████████████████████████████████████████████████████████████████████████████| 25/25 [07:18<00:00, 20.15s/it]\n"
     ]
    },
    {
     "name": "stdout",
     "output_type": "stream",
     "text": [
      "The optimal 'K' value is: 49\n",
      "Total time taken: 438.3280396461487\n"
     ]
    }
   ],
   "source": [
    "s_time = time.time()\n",
    "neighbors = list(range(1,50,2)) # Creating odd number of neighbors to get the optimal k\n",
    "mean_fpr = np.linspace(0, 1, 100)\n",
    "area_under_roc = []\n",
    "tprs = []\n",
    "for k in tqdm(neighbors):\n",
    "    knn = KNeighborsClassifier(n_neighbors=k, weights='distance', algorithm='kd_tree')\n",
    "    cv = StratifiedKFold(n_splits=10)\n",
    "    for train, test in cv.split(tfidf_sent_vectors_train, y_train):\n",
    "        proba = knn.fit(np.array(tfidf_sent_vectors_train)[train], y_train[train]).predict_proba(np.array(tfidf_sent_vectors_train)[test])\n",
    "        fpr, tpr, thresholds = roc_curve(y_train[test], proba[:, 1])\n",
    "        tprs.append(interp(mean_fpr, fpr, tpr)) # Calculation taken from sklearn auc documentation\n",
    "    mean_tpr = np.mean(tprs, axis=0)\n",
    "    mean_auc = auc(mean_fpr, mean_tpr)\n",
    "    area_under_roc.append(mean_auc)\n",
    "\n",
    "optimal_k = neighbors[area_under_roc.index(max(area_under_roc))]\n",
    "e_time = time.time()\n",
    "print(\"The optimal 'K' value is: {}\".format(optimal_k))\n",
    "print(\"Total time taken: {}\".format(e_time-s_time))"
   ]
  },
  {
   "cell_type": "code",
   "execution_count": 155,
   "metadata": {},
   "outputs": [
    {
     "data": {
      "text/plain": [
       "0.598104257807491"
      ]
     },
     "execution_count": 155,
     "metadata": {},
     "output_type": "execute_result"
    }
   ],
   "source": [
    "max(area_under_roc)"
   ]
  },
  {
   "cell_type": "code",
   "execution_count": 156,
   "metadata": {},
   "outputs": [
    {
     "data": {
      "image/png": "[encoded data removed]",
      "text/plain": [
       "<Figure size 432x288 with 1 Axes>"
      ]
     },
     "metadata": {},
     "output_type": "display_data"
    }
   ],
   "source": [
    "# Plot the AUC vs K curve\n",
    "plt.title('AUC vs K curve for K-NN (Brute technique) for BoW')\n",
    "plt.plot(neighbors,area_under_roc, label='Train AUC')\n",
    "# plt.plot(neighbors, cv_scores, label='Train accuracy')\n",
    "plt.legend()\n",
    "plt.xlabel('Number of neighbors')\n",
    "plt.ylabel('AUC')\n",
    "plt.show()"
   ]
  },
  {
   "cell_type": "code",
   "execution_count": 157,
   "metadata": {},
   "outputs": [
    {
     "name": "stdout",
     "output_type": "stream",
     "text": [
      "The optimal 'K' value is: 49\n",
      "Accuracy on test set: 81.913%\n",
      "Precision on test set: 0.825\n",
      "Recall on test set: 0.990\n",
      "F1-Score on test set: 0.900\n",
      "Confusion Matrix of test set\n"
     ]
    },
    {
     "data": {
      "text/plain": [
       "<matplotlib.axes._subplots.AxesSubplot at 0x17707f98518>"
      ]
     },
     "execution_count": 157,
     "metadata": {},
     "output_type": "execute_result"
    },
    {
     "data": {
      "image/png": "[encoded data removed]",
      "text/plain": [
       "<Figure size 432x288 with 2 Axes>"
      ]
     },
     "metadata": {},
     "output_type": "display_data"
    }
   ],
   "source": [
    "# ============================== KNN with k = optimal_k ===============================================\n",
    "print(\"The optimal 'K' value is: {}\".format(optimal_k))\n",
    "knn_optimal = KNeighborsClassifier(n_neighbors=11, weights='distance', algorithm='kd_tree')\n",
    "\n",
    "# fitting the model\n",
    "knn_optimal.fit(tfidf_sent_vectors_train, y_train)\n",
    "\n",
    "# predict the response\n",
    "pred_proba = knn_optimal.predict_proba(tfidf_sent_vectors_test)\n",
    "pred = knn_optimal.predict(tfidf_sent_vectors_test)\n",
    "\n",
    "fpr, tpr, thresholds = roc_curve(y_test, pred_proba[:, 1])\n",
    "# evaluate accuracy\n",
    "print(\"Accuracy on test set: %0.3f%%\"%(accuracy_score(y_test, pred)*100))\n",
    "print(\"Precision on test set: %0.3f\"%(precision_score(y_test, pred)))\n",
    "print(\"Recall on test set: %0.3f\"%(recall_score(y_test, pred)))\n",
    "print(\"F1-Score on test set: %0.3f\"%(f1_score(y_test, pred)))\n",
    "print(\"Confusion Matrix of test set\")\n",
    "df_cm = pd.DataFrame(confusion_matrix(y_test, pred), range(2),range(2))\n",
    "sns.set(font_scale=1.4)\n",
    "# Concept of heat map on confusion matrix and accuracy scores taken from : https://github.com/cyanamous/Amazon-Food-Reviews-Analysis-and-Modelling/blob/master/2%20Amazon%20Food%20Reviews%20-%20KNN%20.ipynb\n",
    "sns.heatmap(df_cm, annot=True,annot_kws={\"size\": 16}, fmt='g')\n"
   ]
  },
  {
   "cell_type": "code",
   "execution_count": 158,
   "metadata": {},
   "outputs": [
    {
     "name": "stderr",
     "output_type": "stream",
     "text": [
      "No handles with labels found to put in legend.\n"
     ]
    },
    {
     "data": {
      "image/png": "[encoded data removed]",
      "text/plain": [
       "<Figure size 432x288 with 1 Axes>"
      ]
     },
     "metadata": {},
     "output_type": "display_data"
    }
   ],
   "source": [
    "# Plot the ROC curve\n",
    "plt.title('ROC curve for K-NN (Brute technique) for BoW')\n",
    "plt.plot([0, 1], [0, 1], linestyle='--', lw=2, color='r')\n",
    "plt.plot(fpr, tpr, color='b')\n",
    "# plt.plot(neighbors, cv_scores, label='Train accuracy')\n",
    "plt.legend()\n",
    "plt.xlabel('FPR')\n",
    "plt.ylabel('TPR')\n",
    "plt.show()"
   ]
  },
  {
   "cell_type": "markdown",
   "metadata": {},
   "source": [
    "#### Observation:\n",
    "* The model is predicting minority class more accurately than the TFIDF implimentation but less than BoW and avg-W2vec implementation\n",
    "* The ROC curve is no so good but better than TFIDF implimentation"
   ]
  },
  {
   "cell_type": "code",
   "execution_count": 159,
   "metadata": {},
   "outputs": [],
   "source": [
    "# Releasing Memory\n",
    "del tfidf_sent_vectors_train\n",
    "del tfidf_sent_vectors_test\n",
    "plt.close()"
   ]
  },
  {
   "cell_type": "markdown",
   "metadata": {},
   "source": [
    "# [6] Conclusions"
   ]
  },
  {
   "cell_type": "code",
   "execution_count": 160,
   "metadata": {},
   "outputs": [],
   "source": [
    "from prettytable import PrettyTable"
   ]
  },
  {
   "cell_type": "code",
   "execution_count": 165,
   "metadata": {},
   "outputs": [
    {
     "name": "stdout",
     "output_type": "stream",
     "text": [
      "+-------------+-----------+-----------------+-------+----------+-----------+--------+----------+\n",
      "|  Vectorizer | Algorithm | Hyper Parameter |  AUC  | Accuracy | Precision | Recall | F1 Score |\n",
      "+-------------+-----------+-----------------+-------+----------+-----------+--------+----------+\n",
      "|     BoW     |   Brute   |        49       | 0.729 | 82.175%  |   0.837   | 0.973  |  0.899   |\n",
      "|    TFIDF    |   Brute   |        49       | 0.651 | 82.018%  |   0.821   | 0.999  |  0.901   |\n",
      "|  Avg-W2Vec  |   Brute   |        49       | 0.626 | 81.861%  |   0.825   | 0.989  |  0.899   |\n",
      "| TFIDF W2Vec |   Brute   |        49       | 0.597 | 81.704%  |   0.823   | 0.989  |  0.899   |\n",
      "|     BoW     |   KDTREE  |        49       | 0.729 | 82.122%  |   0.838   |  0.97  |  0.899   |\n",
      "|    TFIDF    |   KDTREE  |        49       | 0.661 | 82.018%  |   0.821   | 0.901  |  0.999   |\n",
      "|  Avg-W2Vec  |   KDTREE  |        49       | 0.626 | 82.070%  |   0.825   | 0.992  |  0.901   |\n",
      "| TFIDF W2Vec |   KDTREE  |        49       | 0.598 | 81.913%  |   0.825   |  0.99  |   0.9    |\n",
      "+-------------+-----------+-----------------+-------+----------+-----------+--------+----------+\n"
     ]
    }
   ],
   "source": [
    "x = PrettyTable()\n",
    "\n",
    "x.field_names = [\"Vectorizer\", \"Algorithm\", \"Hyper Parameter\", \"AUC\", \"Accuracy\", \"Precision\", \"Recall\", \"F1 Score\"]\n",
    "\n",
    "x.add_row([\"BoW\", \"Brute\", 49, .729, \"82.175%\", 0.837, 0.973, 0.899])\n",
    "x.add_row([\"TFIDF\", \"Brute\", 49, .651, \"82.018%\", 0.821, 0.999, 0.901])\n",
    "x.add_row([\"Avg-W2Vec\", \"Brute\", 49, .626, \"81.861%\", 0.825, 0.989, 0.899])\n",
    "x.add_row([\"TFIDF W2Vec\", \"Brute\", 49, .597, \"81.704%\", 0.823, 0.989, 0.899])\n",
    "x.add_row([\"BoW\", \"KDTREE\", 49, .729, \"82.122%\", 0.838, 0.970, 0.899])\n",
    "x.add_row([\"TFIDF\", \"KDTREE\", 49, .661, \"82.018%\", 0.821, 0.901, 0.999])\n",
    "x.add_row([\"Avg-W2Vec\", \"KDTREE\", 49, .626, \"82.070%\", 0.825, 0.992, 0.901])\n",
    "x.add_row([\"TFIDF W2Vec\", \"KDTREE\", 49, .598, \"81.913%\", 0.825, 0.990, 0.900])\n",
    "\n",
    "print(x)"
   ]
  },
  {
   "cell_type": "markdown",
   "metadata": {},
   "source": [
    "### Overall Observation\n",
    "* KNN is timetaking and memory inefficient method for predicting data\n",
    "* Due to this we have used very less amount of data as well as PCA to recude dimensions drastically leading to information loss\n",
    "* In this case the average acuracy stands on ~82%\n",
    "* The average AUC is ~0.67\n",
    "* From the table above we can conclude that, from the AUC and accuracy measure BoW with Brute algorithm suits the best"
   ]
  },
  {
   "cell_type": "code",
   "execution_count": null,
   "metadata": {},
   "outputs": [],
   "source": []
  }
 ],
 "metadata": {
  "kernelspec": {
   "display_name": "Python 3",
   "language": "python",
   "name": "python3"
  },
  "language_info": {
   "codemirror_mode": {
    "name": "ipython",
    "version": 3
   },
   "file_extension": ".py",
   "mimetype": "text/x-python",
   "name": "python",
   "nbconvert_exporter": "python",
   "pygments_lexer": "ipython3",
   "version": "3.6.5"
  }
 },
 "nbformat": 4,
 "nbformat_minor": 2
}
